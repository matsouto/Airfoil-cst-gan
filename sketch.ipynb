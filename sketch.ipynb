{
 "cells": [
  {
   "cell_type": "code",
   "execution_count": 20,
   "metadata": {},
   "outputs": [],
   "source": [
    "import aerosandbox as asb\n",
    "import numpy as np\n",
    "from src import Airfoil"
   ]
  },
  {
   "cell_type": "code",
   "execution_count": 3,
   "metadata": {},
   "outputs": [],
   "source": [
    "airfoil_database_path = asb._asb_root / \"geometry\" / \"airfoil\" / \"airfoil_database\"\n",
    "\n",
    "UIUC_airfoils = [\n",
    "    asb.Airfoil(name=filename.stem).normalize()\n",
    "    for filename in airfoil_database_path.iterdir() if filename.suffix == \".dat\"\n",
    "]"
   ]
  },
  {
   "cell_type": "code",
   "execution_count": 11,
   "metadata": {},
   "outputs": [],
   "source": [
    "rand_airfoil = lambda: np.random.choice(UIUC_airfoils)\n",
    "airfoil = rand_airfoil()"
   ]
  },
  {
   "cell_type": "code",
   "execution_count": 14,
   "metadata": {},
   "outputs": [
    {
     "name": "stderr",
     "output_type": "stream",
     "text": [
      "Running XFoil to generate polars for Airfoil 'e327'::   0%|          | 0/12 [00:00<?, ?it/s]"
     ]
    },
    {
     "ename": "XFoilError",
     "evalue": "It appears XFoil didn't produce an output file, probably because it crashed.\nTo troubleshoot, try some combination of the following:\n\t - In the XFoil constructor, verify that either XFoil is on PATH or that the `xfoil_command` parameter is set.\n\t - In the XFoil constructor, run with `verbose=True`.\n\t - In the XFoil constructor, set the `working_directory` parameter to a known folder to see the XFoil input and output files.\n\t - In the XFoil constructor, set the `timeout` parameter to a large number to see if XFoil is just taking a long time to run.\n\t - On Windows, use `XFoil.open_interactive()` to run XFoil interactively in a new window.\n\t - Try allowing XFoil to repanel the airfoil by setting `xfoil_repanel=True` in the XFoil constructor.\n",
     "output_type": "error",
     "traceback": [
      "\u001b[0;31m---------------------------------------------------------------------------\u001b[0m",
      "\u001b[0;31mFileNotFoundError\u001b[0m                         Traceback (most recent call last)",
      "File \u001b[0;32m~/Code/Py/Airfoil_toolkit/.venv/lib64/python3.11/site-packages/aerosandbox/aerodynamics/aero_2D/xfoil.py:363\u001b[0m, in \u001b[0;36mXFoil._run_xfoil\u001b[0;34m(self, run_command, read_bl_data_from)\u001b[0m\n\u001b[1;32m    362\u001b[0m \u001b[38;5;28;01mtry\u001b[39;00m:\n\u001b[0;32m--> 363\u001b[0m     \u001b[38;5;28;01mwith\u001b[39;00m \u001b[38;5;28;43mopen\u001b[39;49m\u001b[43m(\u001b[49m\u001b[43mdirectory\u001b[49m\u001b[43m \u001b[49m\u001b[38;5;241;43m/\u001b[39;49m\u001b[43m \u001b[49m\u001b[43moutput_filename\u001b[49m\u001b[43m)\u001b[49m \u001b[38;5;28;01mas\u001b[39;00m f:\n\u001b[1;32m    364\u001b[0m         lines \u001b[38;5;241m=\u001b[39m f\u001b[38;5;241m.\u001b[39mreadlines()\n",
      "\u001b[0;31mFileNotFoundError\u001b[0m: [Errno 2] No such file or directory: '/tmp/tmpxwkfre3n/output.txt'",
      "\nDuring handling of the above exception, another exception occurred:\n",
      "\u001b[0;31mXFoilError\u001b[0m                                Traceback (most recent call last)",
      "Cell \u001b[0;32mIn[14], line 1\u001b[0m\n\u001b[0;32m----> 1\u001b[0m \u001b[43mairfoil\u001b[49m\u001b[38;5;241;43m.\u001b[39;49m\u001b[43mgenerate_polars\u001b[49m\u001b[43m(\u001b[49m\u001b[43m)\u001b[49m\n\u001b[1;32m      2\u001b[0m airfoil\u001b[38;5;241m.\u001b[39mplot_polars()\n",
      "File \u001b[0;32m~/Code/Py/Airfoil_toolkit/.venv/lib64/python3.11/site-packages/aerosandbox/geometry/airfoil/airfoil.py:345\u001b[0m, in \u001b[0;36mAirfoil.generate_polars\u001b[0;34m(self, alphas, Res, cache_filename, xfoil_kwargs, unstructured_interpolated_model_kwargs, include_compressibility_effects, transonic_buffet_lift_knockdown, make_symmetric_polars)\u001b[0m\n\u001b[1;32m    341\u001b[0m     \u001b[38;5;28;01mreturn\u001b[39;00m run_data  \u001b[38;5;66;03m# Data is a dict where keys are figures of merit [str] and values are 1D ndarrays.\u001b[39;00m\n\u001b[1;32m    343\u001b[0m \u001b[38;5;28;01mfrom\u001b[39;00m \u001b[38;5;21;01mtqdm\u001b[39;00m \u001b[38;5;28;01mimport\u001b[39;00m tqdm\n\u001b[0;32m--> 345\u001b[0m run_datas \u001b[38;5;241m=\u001b[39m \u001b[43m[\u001b[49m\u001b[43m  \u001b[49m\u001b[38;5;66;43;03m# Get a list of dicts, where each dict is the result of an XFoil run at a particular Re.\u001b[39;49;00m\n\u001b[1;32m    346\u001b[0m \u001b[43m    \u001b[49m\u001b[43mget_run_data\u001b[49m\u001b[43m(\u001b[49m\u001b[43mRe\u001b[49m\u001b[43m)\u001b[49m\n\u001b[1;32m    347\u001b[0m \u001b[43m    \u001b[49m\u001b[38;5;28;43;01mfor\u001b[39;49;00m\u001b[43m \u001b[49m\u001b[43mRe\u001b[49m\u001b[43m \u001b[49m\u001b[38;5;129;43;01min\u001b[39;49;00m\u001b[43m \u001b[49m\u001b[43mtqdm\u001b[49m\u001b[43m(\u001b[49m\n\u001b[1;32m    348\u001b[0m \u001b[43m        \u001b[49m\u001b[43mRes\u001b[49m\u001b[43m,\u001b[49m\n\u001b[1;32m    349\u001b[0m \u001b[43m        \u001b[49m\u001b[43mdesc\u001b[49m\u001b[38;5;241;43m=\u001b[39;49m\u001b[38;5;124;43mf\u001b[39;49m\u001b[38;5;124;43m\"\u001b[39;49m\u001b[38;5;124;43mRunning XFoil to generate polars for Airfoil \u001b[39;49m\u001b[38;5;124;43m'\u001b[39;49m\u001b[38;5;132;43;01m{\u001b[39;49;00m\u001b[38;5;28;43mself\u001b[39;49m\u001b[38;5;241;43m.\u001b[39;49m\u001b[43mname\u001b[49m\u001b[38;5;132;43;01m}\u001b[39;49;00m\u001b[38;5;124;43m'\u001b[39;49m\u001b[38;5;124;43m:\u001b[39;49m\u001b[38;5;124;43m\"\u001b[39;49m\u001b[43m,\u001b[49m\n\u001b[1;32m    350\u001b[0m \u001b[43m    \u001b[49m\u001b[43m)\u001b[49m\n\u001b[1;32m    351\u001b[0m \u001b[43m\u001b[49m\u001b[43m]\u001b[49m\n\u001b[1;32m    352\u001b[0m data \u001b[38;5;241m=\u001b[39m {  \u001b[38;5;66;03m# Merge the dicts into one big database of all runs.\u001b[39;00m\n\u001b[1;32m    353\u001b[0m     k: np\u001b[38;5;241m.\u001b[39mconcatenate(\u001b[38;5;28mtuple\u001b[39m([run_data[k] \u001b[38;5;28;01mfor\u001b[39;00m run_data \u001b[38;5;129;01min\u001b[39;00m run_datas]))\n\u001b[1;32m    354\u001b[0m     \u001b[38;5;28;01mfor\u001b[39;00m k \u001b[38;5;129;01min\u001b[39;00m run_datas[\u001b[38;5;241m0\u001b[39m]\u001b[38;5;241m.\u001b[39mkeys()\n\u001b[1;32m    355\u001b[0m }\n\u001b[1;32m    357\u001b[0m \u001b[38;5;28;01mif\u001b[39;00m (\n\u001b[1;32m    358\u001b[0m     make_symmetric_polars\n\u001b[1;32m    359\u001b[0m ):  \u001b[38;5;66;03m# If the airfoil is known to be symmetric, duplicate all data across alpha.\u001b[39;00m\n",
      "File \u001b[0;32m~/Code/Py/Airfoil_toolkit/.venv/lib64/python3.11/site-packages/aerosandbox/geometry/airfoil/airfoil.py:346\u001b[0m, in \u001b[0;36m<listcomp>\u001b[0;34m(.0)\u001b[0m\n\u001b[1;32m    341\u001b[0m     \u001b[38;5;28;01mreturn\u001b[39;00m run_data  \u001b[38;5;66;03m# Data is a dict where keys are figures of merit [str] and values are 1D ndarrays.\u001b[39;00m\n\u001b[1;32m    343\u001b[0m \u001b[38;5;28;01mfrom\u001b[39;00m \u001b[38;5;21;01mtqdm\u001b[39;00m \u001b[38;5;28;01mimport\u001b[39;00m tqdm\n\u001b[1;32m    345\u001b[0m run_datas \u001b[38;5;241m=\u001b[39m [  \u001b[38;5;66;03m# Get a list of dicts, where each dict is the result of an XFoil run at a particular Re.\u001b[39;00m\n\u001b[0;32m--> 346\u001b[0m     \u001b[43mget_run_data\u001b[49m\u001b[43m(\u001b[49m\u001b[43mRe\u001b[49m\u001b[43m)\u001b[49m\n\u001b[1;32m    347\u001b[0m     \u001b[38;5;28;01mfor\u001b[39;00m Re \u001b[38;5;129;01min\u001b[39;00m tqdm(\n\u001b[1;32m    348\u001b[0m         Res,\n\u001b[1;32m    349\u001b[0m         desc\u001b[38;5;241m=\u001b[39m\u001b[38;5;124mf\u001b[39m\u001b[38;5;124m\"\u001b[39m\u001b[38;5;124mRunning XFoil to generate polars for Airfoil \u001b[39m\u001b[38;5;124m'\u001b[39m\u001b[38;5;132;01m{\u001b[39;00m\u001b[38;5;28mself\u001b[39m\u001b[38;5;241m.\u001b[39mname\u001b[38;5;132;01m}\u001b[39;00m\u001b[38;5;124m'\u001b[39m\u001b[38;5;124m:\u001b[39m\u001b[38;5;124m\"\u001b[39m,\n\u001b[1;32m    350\u001b[0m     )\n\u001b[1;32m    351\u001b[0m ]\n\u001b[1;32m    352\u001b[0m data \u001b[38;5;241m=\u001b[39m {  \u001b[38;5;66;03m# Merge the dicts into one big database of all runs.\u001b[39;00m\n\u001b[1;32m    353\u001b[0m     k: np\u001b[38;5;241m.\u001b[39mconcatenate(\u001b[38;5;28mtuple\u001b[39m([run_data[k] \u001b[38;5;28;01mfor\u001b[39;00m run_data \u001b[38;5;129;01min\u001b[39;00m run_datas]))\n\u001b[1;32m    354\u001b[0m     \u001b[38;5;28;01mfor\u001b[39;00m k \u001b[38;5;129;01min\u001b[39;00m run_datas[\u001b[38;5;241m0\u001b[39m]\u001b[38;5;241m.\u001b[39mkeys()\n\u001b[1;32m    355\u001b[0m }\n\u001b[1;32m    357\u001b[0m \u001b[38;5;28;01mif\u001b[39;00m (\n\u001b[1;32m    358\u001b[0m     make_symmetric_polars\n\u001b[1;32m    359\u001b[0m ):  \u001b[38;5;66;03m# If the airfoil is known to be symmetric, duplicate all data across alpha.\u001b[39;00m\n",
      "File \u001b[0;32m~/Code/Py/Airfoil_toolkit/.venv/lib64/python3.11/site-packages/aerosandbox/geometry/airfoil/airfoil.py:339\u001b[0m, in \u001b[0;36mAirfoil.generate_polars.<locals>.get_run_data\u001b[0;34m(Re)\u001b[0m\n\u001b[1;32m    336\u001b[0m \u001b[38;5;28;01mdef\u001b[39;00m \u001b[38;5;21mget_run_data\u001b[39m(\n\u001b[1;32m    337\u001b[0m     Re,\n\u001b[1;32m    338\u001b[0m ):  \u001b[38;5;66;03m# Get the data for an XFoil alpha sweep at one specific Re.\u001b[39;00m\n\u001b[0;32m--> 339\u001b[0m     run_data \u001b[38;5;241m=\u001b[39m \u001b[43mXFoil\u001b[49m\u001b[43m(\u001b[49m\u001b[43mairfoil\u001b[49m\u001b[38;5;241;43m=\u001b[39;49m\u001b[38;5;28;43mself\u001b[39;49m\u001b[43m,\u001b[49m\u001b[43m \u001b[49m\u001b[43mRe\u001b[49m\u001b[38;5;241;43m=\u001b[39;49m\u001b[43mRe\u001b[49m\u001b[43m,\u001b[49m\u001b[43m \u001b[49m\u001b[38;5;241;43m*\u001b[39;49m\u001b[38;5;241;43m*\u001b[39;49m\u001b[43mxfoil_kwargs\u001b[49m\u001b[43m)\u001b[49m\u001b[38;5;241;43m.\u001b[39;49m\u001b[43malpha\u001b[49m\u001b[43m(\u001b[49m\u001b[43malphas\u001b[49m\u001b[43m)\u001b[49m\n\u001b[1;32m    340\u001b[0m     run_data[\u001b[38;5;124m\"\u001b[39m\u001b[38;5;124mRe\u001b[39m\u001b[38;5;124m\"\u001b[39m] \u001b[38;5;241m=\u001b[39m Re \u001b[38;5;241m*\u001b[39m np\u001b[38;5;241m.\u001b[39mones_like(run_data[\u001b[38;5;124m\"\u001b[39m\u001b[38;5;124malpha\u001b[39m\u001b[38;5;124m\"\u001b[39m])\n\u001b[1;32m    341\u001b[0m     \u001b[38;5;28;01mreturn\u001b[39;00m run_data\n",
      "File \u001b[0;32m~/Code/Py/Airfoil_toolkit/.venv/lib64/python3.11/site-packages/aerosandbox/aerodynamics/aero_2D/xfoil.py:669\u001b[0m, in \u001b[0;36mXFoil.alpha\u001b[0;34m(self, alpha, start_at)\u001b[0m\n\u001b[1;32m    666\u001b[0m     \u001b[38;5;28;01mfor\u001b[39;00m a \u001b[38;5;129;01min\u001b[39;00m alphas:\n\u001b[1;32m    667\u001b[0m         schedule_run(a)\n\u001b[0;32m--> 669\u001b[0m output \u001b[38;5;241m=\u001b[39m \u001b[38;5;28;43mself\u001b[39;49m\u001b[38;5;241;43m.\u001b[39;49m\u001b[43m_run_xfoil\u001b[49m\u001b[43m(\u001b[49m\n\u001b[1;32m    670\u001b[0m \u001b[43m    \u001b[49m\u001b[38;5;124;43m\"\u001b[39;49m\u001b[38;5;130;43;01m\\n\u001b[39;49;00m\u001b[38;5;124;43m\"\u001b[39;49m\u001b[38;5;241;43m.\u001b[39;49m\u001b[43mjoin\u001b[49m\u001b[43m(\u001b[49m\u001b[43mcommands\u001b[49m\u001b[43m)\u001b[49m\u001b[43m,\u001b[49m\n\u001b[1;32m    671\u001b[0m \u001b[43m    \u001b[49m\u001b[43mread_bl_data_from\u001b[49m\u001b[38;5;241;43m=\u001b[39;49m\u001b[38;5;124;43m\"\u001b[39;49m\u001b[38;5;124;43malpha\u001b[39;49m\u001b[38;5;124;43m\"\u001b[39;49m\u001b[43m \u001b[49m\u001b[38;5;28;43;01mif\u001b[39;49;00m\u001b[43m \u001b[49m\u001b[38;5;28;43mself\u001b[39;49m\u001b[38;5;241;43m.\u001b[39;49m\u001b[43minclude_bl_data\u001b[49m\u001b[43m \u001b[49m\u001b[38;5;28;43;01melse\u001b[39;49;00m\u001b[43m \u001b[49m\u001b[38;5;28;43;01mNone\u001b[39;49;00m\u001b[43m,\u001b[49m\n\u001b[1;32m    672\u001b[0m \u001b[43m\u001b[49m\u001b[43m)\u001b[49m\n\u001b[1;32m    674\u001b[0m sort_order \u001b[38;5;241m=\u001b[39m np\u001b[38;5;241m.\u001b[39margsort(output[\u001b[38;5;124m\"\u001b[39m\u001b[38;5;124malpha\u001b[39m\u001b[38;5;124m\"\u001b[39m])\n\u001b[1;32m    675\u001b[0m output \u001b[38;5;241m=\u001b[39m {k: v[sort_order] \u001b[38;5;28;01mfor\u001b[39;00m k, v \u001b[38;5;129;01min\u001b[39;00m output\u001b[38;5;241m.\u001b[39mitems()}\n",
      "File \u001b[0;32m~/Code/Py/Airfoil_toolkit/.venv/lib64/python3.11/site-packages/aerosandbox/aerodynamics/aero_2D/xfoil.py:366\u001b[0m, in \u001b[0;36mXFoil._run_xfoil\u001b[0;34m(self, run_command, read_bl_data_from)\u001b[0m\n\u001b[1;32m    364\u001b[0m         lines \u001b[38;5;241m=\u001b[39m f\u001b[38;5;241m.\u001b[39mreadlines()\n\u001b[1;32m    365\u001b[0m \u001b[38;5;28;01mexcept\u001b[39;00m \u001b[38;5;167;01mFileNotFoundError\u001b[39;00m:\n\u001b[0;32m--> 366\u001b[0m     \u001b[38;5;28;01mraise\u001b[39;00m \u001b[38;5;28mself\u001b[39m\u001b[38;5;241m.\u001b[39mXFoilError(\n\u001b[1;32m    367\u001b[0m         \u001b[38;5;124m\"\u001b[39m\u001b[38;5;124mIt appears XFoil didn\u001b[39m\u001b[38;5;124m'\u001b[39m\u001b[38;5;124mt produce an output file, probably because it crashed.\u001b[39m\u001b[38;5;130;01m\\n\u001b[39;00m\u001b[38;5;124m\"\u001b[39m\n\u001b[1;32m    368\u001b[0m         \u001b[38;5;124m\"\u001b[39m\u001b[38;5;124mTo troubleshoot, try some combination of the following:\u001b[39m\u001b[38;5;130;01m\\n\u001b[39;00m\u001b[38;5;124m\"\u001b[39m\n\u001b[1;32m    369\u001b[0m         \u001b[38;5;124m\"\u001b[39m\u001b[38;5;130;01m\\t\u001b[39;00m\u001b[38;5;124m - In the XFoil constructor, verify that either XFoil is on PATH or that the `xfoil_command` parameter is set.\u001b[39m\u001b[38;5;130;01m\\n\u001b[39;00m\u001b[38;5;124m\"\u001b[39m\n\u001b[1;32m    370\u001b[0m         \u001b[38;5;124m\"\u001b[39m\u001b[38;5;130;01m\\t\u001b[39;00m\u001b[38;5;124m - In the XFoil constructor, run with `verbose=True`.\u001b[39m\u001b[38;5;130;01m\\n\u001b[39;00m\u001b[38;5;124m\"\u001b[39m\n\u001b[1;32m    371\u001b[0m         \u001b[38;5;124m\"\u001b[39m\u001b[38;5;130;01m\\t\u001b[39;00m\u001b[38;5;124m - In the XFoil constructor, set the `working_directory` parameter to a known folder to see the XFoil input and output files.\u001b[39m\u001b[38;5;130;01m\\n\u001b[39;00m\u001b[38;5;124m\"\u001b[39m\n\u001b[1;32m    372\u001b[0m         \u001b[38;5;124m\"\u001b[39m\u001b[38;5;130;01m\\t\u001b[39;00m\u001b[38;5;124m - In the XFoil constructor, set the `timeout` parameter to a large number to see if XFoil is just taking a long time to run.\u001b[39m\u001b[38;5;130;01m\\n\u001b[39;00m\u001b[38;5;124m\"\u001b[39m\n\u001b[1;32m    373\u001b[0m         \u001b[38;5;124m\"\u001b[39m\u001b[38;5;130;01m\\t\u001b[39;00m\u001b[38;5;124m - On Windows, use `XFoil.open_interactive()` to run XFoil interactively in a new window.\u001b[39m\u001b[38;5;130;01m\\n\u001b[39;00m\u001b[38;5;124m\"\u001b[39m\n\u001b[1;32m    374\u001b[0m         \u001b[38;5;124m\"\u001b[39m\u001b[38;5;130;01m\\t\u001b[39;00m\u001b[38;5;124m - Try allowing XFoil to repanel the airfoil by setting `xfoil_repanel=True` in the XFoil constructor.\u001b[39m\u001b[38;5;130;01m\\n\u001b[39;00m\u001b[38;5;124m\"\u001b[39m\n\u001b[1;32m    375\u001b[0m     )\n\u001b[1;32m    377\u001b[0m \u001b[38;5;28;01mtry\u001b[39;00m:\n\u001b[1;32m    378\u001b[0m     separator_line \u001b[38;5;241m=\u001b[39m \u001b[38;5;28;01mNone\u001b[39;00m\n",
      "\u001b[0;31mXFoilError\u001b[0m: It appears XFoil didn't produce an output file, probably because it crashed.\nTo troubleshoot, try some combination of the following:\n\t - In the XFoil constructor, verify that either XFoil is on PATH or that the `xfoil_command` parameter is set.\n\t - In the XFoil constructor, run with `verbose=True`.\n\t - In the XFoil constructor, set the `working_directory` parameter to a known folder to see the XFoil input and output files.\n\t - In the XFoil constructor, set the `timeout` parameter to a large number to see if XFoil is just taking a long time to run.\n\t - On Windows, use `XFoil.open_interactive()` to run XFoil interactively in a new window.\n\t - Try allowing XFoil to repanel the airfoil by setting `xfoil_repanel=True` in the XFoil constructor.\n"
     ]
    }
   ],
   "source": [
    "airfoil.generate_polars()\n",
    "airfoil.plot_polars()"
   ]
  }
 ],
 "metadata": {
  "kernelspec": {
   "display_name": ".venv",
   "language": "python",
   "name": "python3"
  },
  "language_info": {
   "codemirror_mode": {
    "name": "ipython",
    "version": 3
   },
   "file_extension": ".py",
   "mimetype": "text/x-python",
   "name": "python",
   "nbconvert_exporter": "python",
   "pygments_lexer": "ipython3",
   "version": "3.11.9"
  }
 },
 "nbformat": 4,
 "nbformat_minor": 2
}
