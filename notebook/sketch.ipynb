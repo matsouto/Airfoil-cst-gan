{
 "cells": [
  {
   "cell_type": "code",
   "execution_count": 16,
   "metadata": {},
   "outputs": [
    {
     "name": "stdout",
     "output_type": "stream",
     "text": [
      "The autoreload extension is already loaded. To reload it, use:\n",
      "  %reload_ext autoreload\n"
     ]
    }
   ],
   "source": [
    "%load_ext autoreload\n",
    "%autoreload 2\n",
    "\n",
    "import os\n",
    "import sys\n",
    "\n",
    "# Build an absolute path from this notebook's parent directory\n",
    "module_path = os.path.abspath(\"../\")\n",
    "\n",
    "# Add to sys.path if not already present\n",
    "if module_path not in sys.path:\n",
    "    sys.path.append(module_path)\n",
    "\n",
    "import numpy as np\n",
    "from aerosandbox import Airfoil, KulfanAirfoil\n",
    "from src import airfoil_modifications\n",
    "\n",
    "import plotly.graph_objects as go"
   ]
  },
  {
   "cell_type": "code",
   "execution_count": 37,
   "metadata": {},
   "outputs": [
    {
     "data": {
      "application/vnd.plotly.v1+json": {
       "config": {
        "plotlyServerURL": "https://plot.ly"
       },
       "data": [
        {
         "line": {
          "color": "blue"
         },
         "mode": "lines+markers",
         "name": "NACA0012",
         "type": "scatter",
         "x": {
          "bdata": "AAAAAAAA8D+L2yBWff/vPxeN2WD1/e8/POkrOWj77z/T4cMI1vfvP07d9Ak/8+8/Hv61h6Pt7z9IWp3dA+fvP4gj2ndg3+8/VcAt07nW7z9E1uN8EM3vP0BGyRJlwu8/NRsiQ7i27z/Ka57MCqrvP94vTn5dnO8/nAqUN7GN7z/zCRfoBn7vP1Fcs49fbe8/vP1pPrxb7z8oXU8UHknvP077eEGGNe8/EwTqBfYg7z/D436xbgvvP4LZ16Px9O4/MIhCTIDd7j9Eh6IpHMXuPxb1WMrGq+4/LwwrzIGR7j8uvSfcTnbuP/1OjLYvWu4/GgeoJiY97j+y274GNB/uP3gx6z9bAO4/LKf+yZ3g7T+98GGr/b/tPyrE8/h8nu0/KNrm1R187T/EBJ9z4ljtP0JejRHNNO0/cJIL/d8P7T/WRDaRHersPxyWxjaIw+w/IsvqYyKc7D9OGB6c7nPsP5GT/2/vSuw/5k8ofSch7D/GpABumfbrP2yklPlHy+s/tsNn4zWf6z9Qtkf7ZXLrPzyCHh3bROs/fM3DMJgW6z/raM0poOfqP10bXwf2t+o/5a/505yH6j+oSkmll1bqPx4H85vpJOo/PuNh45Xy6T+e+pKxn7/pP/AU4UYKjOk/QIvP7dhX6T8wh9T6DiPpP8qfIsyv7eg/Rtdxyb636D9H/cdjP4HoPzJ5QBU1Sug/FIDTYKMS6D/YuRzSjdrnP1hZIf33oec/DKsVfuVo5z8ZHiL5WS/nP2DLJxpZ9eY/jn6ElOa65j/MRNYiBoDmPwWFvoa7ROY/rKWkiAoJ5j/SQ3j39szlP5b/cqiEkOU/2uHZdrdT5T84X75DkxblP1L8vvUb2eQ/YpfHeFWb5D9CW9G9Q13kP+pforrqHuQ/hvyMaU7g4z9Ezy7JcqHjPwZ/L9xbYuM/DDv/qA0j4z/j/JQ5jOPiP7aQLJvbo+I/NWgE3v9j4j9ZPBsV/SPiPzWC7VXX4+E/F7cyuJKj4T88iJpVM2PhP1faiUm9IuE/NrXXsDTi4D/KF4qpnaHgP9G4klL8YOA/hLiLy1Qg4D/7juhoVr/fP1+O2loHPt8/bdDrrMS83j+UlVCeljveP1VL7GyFut0/jO/KVJk53T/TkZqP2rjcP5f7JFRRONw/T4fJ1QW42z+YL/dDADjbP5bepslIuNo/OwbWjOc42j/qiQGu5LnZP/UBoUdIO9k/eGGibRq92D/4BuYsYz/YPzBAu4oqwtc/fkldhHhF1z8+0XAOVcnWP10HghTITdY/kEGDeNnS1T9QPEwSkVjVP9UAGq/23tQ/XngPERJm1D+qtLbu6u3TP/f1gvKIdtM/anZTuvP/0j/mAvfWMorSP0JpsMtNFdI/1MO7DUyh0T/oqdQDNS7RP1BNvQUQvNA/UIzGW+RK0D+w/7F8crXPPzgb/qor184/5grgcAL7zT/uojjaBCHNP9iAdc9AScw/QuOtFMRzyz8G08FInKDKP0Kse+TWz8k/jBW0OYEByT8Mc3hyqDXIP4zjM5BZbMc/atXaaqGlxj9uQBmwjOHFP5SSg+InIMU/VlzKWH9hxD8UyvA8n6XDPxL3hYuT7MI/wCbhEmg2wj8o8WByKIPBP1JurRng0sA/7Gz9R5olwD/UgL0WxPa+P3xjA4CEqL0/pD0PH4tgvD/wpqng7B67PyBPy0m+47k/VNlNdhOvuD+EbKMXAIG3P/QNlXOXWbY/5NkHY+w4tT/ILslQER+0P6zeYTgYDLM/GHrwpBIAsj+sxgqwEfuwP5DoTAFM+q8/6EQSlL8Mrj9gjn+VnS2sPzAQO5cEXao/MC2EPRKbqD8QPU894+emP7CucFqTQ6U/0IvXZT2uoz/4fNc7+yeiP+BngsLlsKA/sIcj0CmSnj+wfb9CP+GbPzCW4NA3T5k/AFsUdj3clj+gSMAyeIiUP+B1lAkOVJI/sMEe/SI/kD/gWP0aspOMP6AIdGyg6Ig/wA1l2Ex9hT/AMnk371GCP0DgXJt2zX4/QN4UjsF3eT+A1R9pFqN0PwA87hLET3A/ALilYiL8aD8A4wFKeFxiPwBlRRbsgVk/AFo8eO5TUD8ADltQG19CPwBIlzP5VDA/AKCO5DtVED8AAAAAAAAAAACgjuQ7VRA/AEiXM/lUMD8ADltQG19CPwBaPHjuU1A/AGVFFuyBWT8A4wFKeFxiPwC4pWIi/Gg/ADzuEsRPcD+A1R9pFqN0P0DeFI7Bd3k/QOBcm3bNfj/AMnk371GCP8ANZdhMfYU/oAh0bKDoiD/gWP0aspOMP7DBHv0iP5A/4HWUCQ5Ukj+gSMAyeIiUPwBbFHY93JY/MJbg0DdPmT+wfb9CP+GbP7CHI9Apkp4/4GeCwuWwoD/4fNc7+yeiP9CL12U9rqM/sK5wWpNDpT8QPU894+emPzAthD0Sm6g/MBA7lwRdqj9gjn+VnS2sP+hEEpS/DK4/kOhMAUz6rz+sxgqwEfuwPxh68KQSALI/rN5hOBgMsz/ILslQER+0P+TZB2PsOLU/9A2Vc5dZtj+EbKMXAIG3P1TZTXYTr7g/IE/LSb7juT/wpqng7B67P6Q9Dx+LYLw/fGMDgISovT/UgL0WxPa+P+xs/UeaJcA/Um6tGeDSwD8o8WByKIPBP8Am4RJoNsI/EveFi5Pswj8UyvA8n6XDP1Zcylh/YcQ/lJKD4icgxT9uQBmwjOHFP2rV2mqhpcY/jOMzkFlsxz8Mc3hyqDXIP4wVtDmBAck/Qqx75NbPyT8G08FInKDKP0LjrRTEc8s/2IB1z0BJzD/uojjaBCHNP+YK4HAC+80/OBv+qivXzj+w/7F8crXPP1CMxlvkStA/UE29BRC80D/oqdQDNS7RP9TDuw1ModE/Qmmwy00V0j/mAvfWMorSP2p2U7rz/9I/9/WC8oh20z+qtLbu6u3TP154DxESZtQ/1QAar/be1D9QPEwSkVjVP5BBg3jZ0tU/XQeCFMhN1j8+0XAOVcnWP35JXYR4Rdc/MEC7iirC1z/4BuYsYz/YP3hhom0avdg/9QGhR0g72T/qiQGu5LnZPzsG1oznONo/lt6myUi42j+YL/dDADjbP0+HydUFuNs/l/skVFE43D/TkZqP2rjcP4zvylSZOd0/VUvsbIW63T+UlVCeljveP23Q66zEvN4/X47aWgc+3z/7juhoVr/fP4S4i8tUIOA/0biSUvxg4D/KF4qpnaHgPza117A04uA/V9qJSb0i4T88iJpVM2PhPxe3MriSo+E/NYLtVdfj4T9ZPBsV/SPiPzVoBN7/Y+I/tpAsm9uj4j/j/JQ5jOPiPww7/6gNI+M/Bn8v3Fti4z9Ezy7JcqHjP4b8jGlO4OM/6l+iuuoe5D9CW9G9Q13kP2KXx3hVm+Q/Uvy+9RvZ5D84X75DkxblP9rh2Xa3U+U/lv9yqISQ5T/SQ3j39szlP6ylpIgKCeY/BYW+hrtE5j/MRNYiBoDmP45+hJTmuuY/YMsnGln15j8ZHiL5WS/nPwyrFX7laOc/WFkh/feh5z/YuRzSjdrnPxSA02CjEug/MnlAFTVK6D9H/cdjP4HoP0bXccm+t+g/yp8izK/t6D8wh9T6DiPpP0CLz+3YV+k/8BThRgqM6T+e+pKxn7/pPz7jYeOV8uk/Hgfzm+kk6j+oSkmll1bqP+Wv+dOch+o/XRtfB/a36j/raM0poOfqP3zNwzCYFus/PIIeHdtE6z9Qtkf7ZXLrP7bDZ+M1n+s/bKSU+UfL6z/GpABumfbrP+ZPKH0nIew/kZP/b+9K7D9OGB6c7nPsPyLL6mMinOw/HJbGNojD7D/WRDaRHersP3CSC/3fD+0/Ql6NEc007T/EBJ9z4ljtPyja5tUdfO0/KsTz+Hye7T+98GGr/b/tPyyn/smd4O0/eDHrP1sA7j+y274GNB/uPxoHqCYmPe4//U6Mti9a7j8uvSfcTnbuPy8MK8yBke4/FvVYysar7j9Eh6IpHMXuPzCIQkyA3e4/gtnXo/H07j/D436xbgvvPxME6gX2IO8/Tvt4QYY17z8oXU8UHknvP7z9aT68W+8/UVyzj19t7z/zCRfoBn7vP5wKlDexje8/3i9Ofl2c7z/Ka57MCqrvPzUbIkO4tu8/QEbJEmXC7z9E1uN8EM3vP1XALdO51u8/iCPad2Df7z9IWp3dA+fvPx7+tYej7e8/Tt30CT/z7z/T4cMI1vfvPzzpKzlo++8/F43ZYPX97z+L2yBWff/vPwAAAAAAAPA/",
          "dtype": "f8"
         },
         "y": {
          "bdata": "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",
          "dtype": "f8"
         }
        },
        {
         "line": {
          "color": "green"
         },
         "mode": "lines+markers",
         "name": "NACA0008",
         "type": "scatter",
         "x": {
          "bdata": "AAAAAAAA8D+L2yBWff/vPxeN2WD1/e8/POkrOWj77z/T4cMI1vfvP07d9Ak/8+8/Hv61h6Pt7z9IWp3dA+fvP4gj2ndg3+8/VcAt07nW7z9E1uN8EM3vP0BGyRJlwu8/NRsiQ7i27z/Ka57MCqrvP94vTn5dnO8/nAqUN7GN7z/zCRfoBn7vP1Fcs49fbe8/vP1pPrxb7z8oXU8UHknvP077eEGGNe8/EwTqBfYg7z/D436xbgvvP4LZ16Px9O4/MIhCTIDd7j9Eh6IpHMXuPxb1WMrGq+4/LwwrzIGR7j8uvSfcTnbuP/1OjLYvWu4/GgeoJiY97j+y274GNB/uP3gx6z9bAO4/LKf+yZ3g7T+98GGr/b/tPyrE8/h8nu0/KNrm1R187T/EBJ9z4ljtP0JejRHNNO0/cJIL/d8P7T/WRDaRHersPxyWxjaIw+w/IsvqYyKc7D9OGB6c7nPsP5GT/2/vSuw/5k8ofSch7D/GpABumfbrP2yklPlHy+s/tsNn4zWf6z9Qtkf7ZXLrPzyCHh3bROs/fM3DMJgW6z/raM0poOfqP10bXwf2t+o/5a/505yH6j+oSkmll1bqPx4H85vpJOo/PuNh45Xy6T+e+pKxn7/pP/AU4UYKjOk/QIvP7dhX6T8wh9T6DiPpP8qfIsyv7eg/Rtdxyb636D9H/cdjP4HoPzJ5QBU1Sug/FIDTYKMS6D/YuRzSjdrnP1hZIf33oec/DKsVfuVo5z8ZHiL5WS/nP2DLJxpZ9eY/jn6ElOa65j/MRNYiBoDmPwWFvoa7ROY/rKWkiAoJ5j/SQ3j39szlP5b/cqiEkOU/2uHZdrdT5T84X75DkxblP1L8vvUb2eQ/YpfHeFWb5D9CW9G9Q13kP+pforrqHuQ/hvyMaU7g4z9Ezy7JcqHjPwZ/L9xbYuM/DDv/qA0j4z/j/JQ5jOPiP7aQLJvbo+I/NWgE3v9j4j9ZPBsV/SPiPzWC7VXX4+E/F7cyuJKj4T88iJpVM2PhP1faiUm9IuE/NrXXsDTi4D/KF4qpnaHgP9G4klL8YOA/hLiLy1Qg4D/7juhoVr/fP1+O2loHPt8/bdDrrMS83j+UlVCeljveP1VL7GyFut0/jO/KVJk53T/TkZqP2rjcP5f7JFRRONw/T4fJ1QW42z+YL/dDADjbP5bepslIuNo/OwbWjOc42j/qiQGu5LnZP/UBoUdIO9k/eGGibRq92D/4BuYsYz/YPzBAu4oqwtc/fkldhHhF1z8+0XAOVcnWP10HghTITdY/kEGDeNnS1T9QPEwSkVjVP9UAGq/23tQ/XngPERJm1D+qtLbu6u3TP/f1gvKIdtM/anZTuvP/0j/mAvfWMorSP0JpsMtNFdI/1MO7DUyh0T/oqdQDNS7RP1BNvQUQvNA/UIzGW+RK0D+w/7F8crXPPzgb/qor184/5grgcAL7zT/uojjaBCHNP9iAdc9AScw/QuOtFMRzyz8G08FInKDKP0Kse+TWz8k/jBW0OYEByT8Mc3hyqDXIP4zjM5BZbMc/atXaaqGlxj9uQBmwjOHFP5SSg+InIMU/VlzKWH9hxD8UyvA8n6XDPxL3hYuT7MI/wCbhEmg2wj8o8WByKIPBP1JurRng0sA/7Gz9R5olwD/UgL0WxPa+P3xjA4CEqL0/pD0PH4tgvD/wpqng7B67PyBPy0m+47k/VNlNdhOvuD+EbKMXAIG3P/QNlXOXWbY/5NkHY+w4tT/ILslQER+0P6zeYTgYDLM/GHrwpBIAsj+sxgqwEfuwP5DoTAFM+q8/6EQSlL8Mrj9gjn+VnS2sPzAQO5cEXao/MC2EPRKbqD8QPU894+emP7CucFqTQ6U/0IvXZT2uoz/4fNc7+yeiP+BngsLlsKA/sIcj0CmSnj+wfb9CP+GbPzCW4NA3T5k/AFsUdj3clj+gSMAyeIiUP+B1lAkOVJI/sMEe/SI/kD/gWP0aspOMP6AIdGyg6Ig/wA1l2Ex9hT/AMnk371GCP0DgXJt2zX4/QN4UjsF3eT+A1R9pFqN0PwA87hLET3A/ALilYiL8aD8A4wFKeFxiPwBlRRbsgVk/AFo8eO5TUD8ADltQG19CPwBIlzP5VDA/AKCO5DtVED8AAAAAAAAAAACgjuQ7VRA/AEiXM/lUMD8ADltQG19CPwBaPHjuU1A/AGVFFuyBWT8A4wFKeFxiPwC4pWIi/Gg/ADzuEsRPcD+A1R9pFqN0P0DeFI7Bd3k/QOBcm3bNfj/AMnk371GCP8ANZdhMfYU/oAh0bKDoiD/gWP0aspOMP7DBHv0iP5A/4HWUCQ5Ukj+gSMAyeIiUPwBbFHY93JY/MJbg0DdPmT+wfb9CP+GbP7CHI9Apkp4/4GeCwuWwoD/4fNc7+yeiP9CL12U9rqM/sK5wWpNDpT8QPU894+emPzAthD0Sm6g/MBA7lwRdqj9gjn+VnS2sP+hEEpS/DK4/kOhMAUz6rz+sxgqwEfuwPxh68KQSALI/rN5hOBgMsz/ILslQER+0P+TZB2PsOLU/9A2Vc5dZtj+EbKMXAIG3P1TZTXYTr7g/IE/LSb7juT/wpqng7B67P6Q9Dx+LYLw/fGMDgISovT/UgL0WxPa+P+xs/UeaJcA/Um6tGeDSwD8o8WByKIPBP8Am4RJoNsI/EveFi5Pswj8UyvA8n6XDP1Zcylh/YcQ/lJKD4icgxT9uQBmwjOHFP2rV2mqhpcY/jOMzkFlsxz8Mc3hyqDXIP4wVtDmBAck/Qqx75NbPyT8G08FInKDKP0LjrRTEc8s/2IB1z0BJzD/uojjaBCHNP+YK4HAC+80/OBv+qivXzj+w/7F8crXPP1CMxlvkStA/UE29BRC80D/oqdQDNS7RP9TDuw1ModE/Qmmwy00V0j/mAvfWMorSP2p2U7rz/9I/9/WC8oh20z+qtLbu6u3TP154DxESZtQ/1QAar/be1D9QPEwSkVjVP5BBg3jZ0tU/XQeCFMhN1j8+0XAOVcnWP35JXYR4Rdc/MEC7iirC1z/4BuYsYz/YP3hhom0avdg/9QGhR0g72T/qiQGu5LnZPzsG1oznONo/lt6myUi42j+YL/dDADjbP0+HydUFuNs/l/skVFE43D/TkZqP2rjcP4zvylSZOd0/VUvsbIW63T+UlVCeljveP23Q66zEvN4/X47aWgc+3z/7juhoVr/fP4S4i8tUIOA/0biSUvxg4D/KF4qpnaHgPza117A04uA/V9qJSb0i4T88iJpVM2PhPxe3MriSo+E/NYLtVdfj4T9ZPBsV/SPiPzVoBN7/Y+I/tpAsm9uj4j/j/JQ5jOPiPww7/6gNI+M/Bn8v3Fti4z9Ezy7JcqHjP4b8jGlO4OM/6l+iuuoe5D9CW9G9Q13kP2KXx3hVm+Q/Uvy+9RvZ5D84X75DkxblP9rh2Xa3U+U/lv9yqISQ5T/SQ3j39szlP6ylpIgKCeY/BYW+hrtE5j/MRNYiBoDmP45+hJTmuuY/YMsnGln15j8ZHiL5WS/nPwyrFX7laOc/WFkh/feh5z/YuRzSjdrnPxSA02CjEug/MnlAFTVK6D9H/cdjP4HoP0bXccm+t+g/yp8izK/t6D8wh9T6DiPpP0CLz+3YV+k/8BThRgqM6T+e+pKxn7/pPz7jYeOV8uk/Hgfzm+kk6j+oSkmll1bqP+Wv+dOch+o/XRtfB/a36j/raM0poOfqP3zNwzCYFus/PIIeHdtE6z9Qtkf7ZXLrP7bDZ+M1n+s/bKSU+UfL6z/GpABumfbrP+ZPKH0nIew/kZP/b+9K7D9OGB6c7nPsPyLL6mMinOw/HJbGNojD7D/WRDaRHersP3CSC/3fD+0/Ql6NEc007T/EBJ9z4ljtPyja5tUdfO0/KsTz+Hye7T+98GGr/b/tPyyn/smd4O0/eDHrP1sA7j+y274GNB/uPxoHqCYmPe4//U6Mti9a7j8uvSfcTnbuPy8MK8yBke4/FvVYysar7j9Eh6IpHMXuPzCIQkyA3e4/gtnXo/H07j/D436xbgvvPxME6gX2IO8/Tvt4QYY17z8oXU8UHknvP7z9aT68W+8/UVyzj19t7z/zCRfoBn7vP5wKlDexje8/3i9Ofl2c7z/Ka57MCqrvPzUbIkO4tu8/QEbJEmXC7z9E1uN8EM3vP1XALdO51u8/iCPad2Df7z9IWp3dA+fvPx7+tYej7e8/Tt30CT/z7z/T4cMI1vfvPzzpKzlo++8/F43ZYPX97z+L2yBWff/vPwAAAAAAAPA/",
          "dtype": "f8"
         },
         "y": {
          "bdata": "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",
          "dtype": "f8"
         }
        }
       ],
       "layout": {
        "template": {
         "data": {
          "bar": [
           {
            "error_x": {
             "color": "#2a3f5f"
            },
            "error_y": {
             "color": "#2a3f5f"
            },
            "marker": {
             "line": {
              "color": "#E5ECF6",
              "width": 0.5
             },
             "pattern": {
              "fillmode": "overlay",
              "size": 10,
              "solidity": 0.2
             }
            },
            "type": "bar"
           }
          ],
          "barpolar": [
           {
            "marker": {
             "line": {
              "color": "#E5ECF6",
              "width": 0.5
             },
             "pattern": {
              "fillmode": "overlay",
              "size": 10,
              "solidity": 0.2
             }
            },
            "type": "barpolar"
           }
          ],
          "carpet": [
           {
            "aaxis": {
             "endlinecolor": "#2a3f5f",
             "gridcolor": "white",
             "linecolor": "white",
             "minorgridcolor": "white",
             "startlinecolor": "#2a3f5f"
            },
            "baxis": {
             "endlinecolor": "#2a3f5f",
             "gridcolor": "white",
             "linecolor": "white",
             "minorgridcolor": "white",
             "startlinecolor": "#2a3f5f"
            },
            "type": "carpet"
           }
          ],
          "choropleth": [
           {
            "colorbar": {
             "outlinewidth": 0,
             "ticks": ""
            },
            "type": "choropleth"
           }
          ],
          "contour": [
           {
            "colorbar": {
             "outlinewidth": 0,
             "ticks": ""
            },
            "colorscale": [
             [
              0,
              "#0d0887"
             ],
             [
              0.1111111111111111,
              "#46039f"
             ],
             [
              0.2222222222222222,
              "#7201a8"
             ],
             [
              0.3333333333333333,
              "#9c179e"
             ],
             [
              0.4444444444444444,
              "#bd3786"
             ],
             [
              0.5555555555555556,
              "#d8576b"
             ],
             [
              0.6666666666666666,
              "#ed7953"
             ],
             [
              0.7777777777777778,
              "#fb9f3a"
             ],
             [
              0.8888888888888888,
              "#fdca26"
             ],
             [
              1,
              "#f0f921"
             ]
            ],
            "type": "contour"
           }
          ],
          "contourcarpet": [
           {
            "colorbar": {
             "outlinewidth": 0,
             "ticks": ""
            },
            "type": "contourcarpet"
           }
          ],
          "heatmap": [
           {
            "colorbar": {
             "outlinewidth": 0,
             "ticks": ""
            },
            "colorscale": [
             [
              0,
              "#0d0887"
             ],
             [
              0.1111111111111111,
              "#46039f"
             ],
             [
              0.2222222222222222,
              "#7201a8"
             ],
             [
              0.3333333333333333,
              "#9c179e"
             ],
             [
              0.4444444444444444,
              "#bd3786"
             ],
             [
              0.5555555555555556,
              "#d8576b"
             ],
             [
              0.6666666666666666,
              "#ed7953"
             ],
             [
              0.7777777777777778,
              "#fb9f3a"
             ],
             [
              0.8888888888888888,
              "#fdca26"
             ],
             [
              1,
              "#f0f921"
             ]
            ],
            "type": "heatmap"
           }
          ],
          "histogram": [
           {
            "marker": {
             "pattern": {
              "fillmode": "overlay",
              "size": 10,
              "solidity": 0.2
             }
            },
            "type": "histogram"
           }
          ],
          "histogram2d": [
           {
            "colorbar": {
             "outlinewidth": 0,
             "ticks": ""
            },
            "colorscale": [
             [
              0,
              "#0d0887"
             ],
             [
              0.1111111111111111,
              "#46039f"
             ],
             [
              0.2222222222222222,
              "#7201a8"
             ],
             [
              0.3333333333333333,
              "#9c179e"
             ],
             [
              0.4444444444444444,
              "#bd3786"
             ],
             [
              0.5555555555555556,
              "#d8576b"
             ],
             [
              0.6666666666666666,
              "#ed7953"
             ],
             [
              0.7777777777777778,
              "#fb9f3a"
             ],
             [
              0.8888888888888888,
              "#fdca26"
             ],
             [
              1,
              "#f0f921"
             ]
            ],
            "type": "histogram2d"
           }
          ],
          "histogram2dcontour": [
           {
            "colorbar": {
             "outlinewidth": 0,
             "ticks": ""
            },
            "colorscale": [
             [
              0,
              "#0d0887"
             ],
             [
              0.1111111111111111,
              "#46039f"
             ],
             [
              0.2222222222222222,
              "#7201a8"
             ],
             [
              0.3333333333333333,
              "#9c179e"
             ],
             [
              0.4444444444444444,
              "#bd3786"
             ],
             [
              0.5555555555555556,
              "#d8576b"
             ],
             [
              0.6666666666666666,
              "#ed7953"
             ],
             [
              0.7777777777777778,
              "#fb9f3a"
             ],
             [
              0.8888888888888888,
              "#fdca26"
             ],
             [
              1,
              "#f0f921"
             ]
            ],
            "type": "histogram2dcontour"
           }
          ],
          "mesh3d": [
           {
            "colorbar": {
             "outlinewidth": 0,
             "ticks": ""
            },
            "type": "mesh3d"
           }
          ],
          "parcoords": [
           {
            "line": {
             "colorbar": {
              "outlinewidth": 0,
              "ticks": ""
             }
            },
            "type": "parcoords"
           }
          ],
          "pie": [
           {
            "automargin": true,
            "type": "pie"
           }
          ],
          "scatter": [
           {
            "fillpattern": {
             "fillmode": "overlay",
             "size": 10,
             "solidity": 0.2
            },
            "type": "scatter"
           }
          ],
          "scatter3d": [
           {
            "line": {
             "colorbar": {
              "outlinewidth": 0,
              "ticks": ""
             }
            },
            "marker": {
             "colorbar": {
              "outlinewidth": 0,
              "ticks": ""
             }
            },
            "type": "scatter3d"
           }
          ],
          "scattercarpet": [
           {
            "marker": {
             "colorbar": {
              "outlinewidth": 0,
              "ticks": ""
             }
            },
            "type": "scattercarpet"
           }
          ],
          "scattergeo": [
           {
            "marker": {
             "colorbar": {
              "outlinewidth": 0,
              "ticks": ""
             }
            },
            "type": "scattergeo"
           }
          ],
          "scattergl": [
           {
            "marker": {
             "colorbar": {
              "outlinewidth": 0,
              "ticks": ""
             }
            },
            "type": "scattergl"
           }
          ],
          "scattermap": [
           {
            "marker": {
             "colorbar": {
              "outlinewidth": 0,
              "ticks": ""
             }
            },
            "type": "scattermap"
           }
          ],
          "scattermapbox": [
           {
            "marker": {
             "colorbar": {
              "outlinewidth": 0,
              "ticks": ""
             }
            },
            "type": "scattermapbox"
           }
          ],
          "scatterpolar": [
           {
            "marker": {
             "colorbar": {
              "outlinewidth": 0,
              "ticks": ""
             }
            },
            "type": "scatterpolar"
           }
          ],
          "scatterpolargl": [
           {
            "marker": {
             "colorbar": {
              "outlinewidth": 0,
              "ticks": ""
             }
            },
            "type": "scatterpolargl"
           }
          ],
          "scatterternary": [
           {
            "marker": {
             "colorbar": {
              "outlinewidth": 0,
              "ticks": ""
             }
            },
            "type": "scatterternary"
           }
          ],
          "surface": [
           {
            "colorbar": {
             "outlinewidth": 0,
             "ticks": ""
            },
            "colorscale": [
             [
              0,
              "#0d0887"
             ],
             [
              0.1111111111111111,
              "#46039f"
             ],
             [
              0.2222222222222222,
              "#7201a8"
             ],
             [
              0.3333333333333333,
              "#9c179e"
             ],
             [
              0.4444444444444444,
              "#bd3786"
             ],
             [
              0.5555555555555556,
              "#d8576b"
             ],
             [
              0.6666666666666666,
              "#ed7953"
             ],
             [
              0.7777777777777778,
              "#fb9f3a"
             ],
             [
              0.8888888888888888,
              "#fdca26"
             ],
             [
              1,
              "#f0f921"
             ]
            ],
            "type": "surface"
           }
          ],
          "table": [
           {
            "cells": {
             "fill": {
              "color": "#EBF0F8"
             },
             "line": {
              "color": "white"
             }
            },
            "header": {
             "fill": {
              "color": "#C8D4E3"
             },
             "line": {
              "color": "white"
             }
            },
            "type": "table"
           }
          ]
         },
         "layout": {
          "annotationdefaults": {
           "arrowcolor": "#2a3f5f",
           "arrowhead": 0,
           "arrowwidth": 1
          },
          "autotypenumbers": "strict",
          "coloraxis": {
           "colorbar": {
            "outlinewidth": 0,
            "ticks": ""
           }
          },
          "colorscale": {
           "diverging": [
            [
             0,
             "#8e0152"
            ],
            [
             0.1,
             "#c51b7d"
            ],
            [
             0.2,
             "#de77ae"
            ],
            [
             0.3,
             "#f1b6da"
            ],
            [
             0.4,
             "#fde0ef"
            ],
            [
             0.5,
             "#f7f7f7"
            ],
            [
             0.6,
             "#e6f5d0"
            ],
            [
             0.7,
             "#b8e186"
            ],
            [
             0.8,
             "#7fbc41"
            ],
            [
             0.9,
             "#4d9221"
            ],
            [
             1,
             "#276419"
            ]
           ],
           "sequential": [
            [
             0,
             "#0d0887"
            ],
            [
             0.1111111111111111,
             "#46039f"
            ],
            [
             0.2222222222222222,
             "#7201a8"
            ],
            [
             0.3333333333333333,
             "#9c179e"
            ],
            [
             0.4444444444444444,
             "#bd3786"
            ],
            [
             0.5555555555555556,
             "#d8576b"
            ],
            [
             0.6666666666666666,
             "#ed7953"
            ],
            [
             0.7777777777777778,
             "#fb9f3a"
            ],
            [
             0.8888888888888888,
             "#fdca26"
            ],
            [
             1,
             "#f0f921"
            ]
           ],
           "sequentialminus": [
            [
             0,
             "#0d0887"
            ],
            [
             0.1111111111111111,
             "#46039f"
            ],
            [
             0.2222222222222222,
             "#7201a8"
            ],
            [
             0.3333333333333333,
             "#9c179e"
            ],
            [
             0.4444444444444444,
             "#bd3786"
            ],
            [
             0.5555555555555556,
             "#d8576b"
            ],
            [
             0.6666666666666666,
             "#ed7953"
            ],
            [
             0.7777777777777778,
             "#fb9f3a"
            ],
            [
             0.8888888888888888,
             "#fdca26"
            ],
            [
             1,
             "#f0f921"
            ]
           ]
          },
          "colorway": [
           "#636efa",
           "#EF553B",
           "#00cc96",
           "#ab63fa",
           "#FFA15A",
           "#19d3f3",
           "#FF6692",
           "#B6E880",
           "#FF97FF",
           "#FECB52"
          ],
          "font": {
           "color": "#2a3f5f"
          },
          "geo": {
           "bgcolor": "white",
           "lakecolor": "white",
           "landcolor": "#E5ECF6",
           "showlakes": true,
           "showland": true,
           "subunitcolor": "white"
          },
          "hoverlabel": {
           "align": "left"
          },
          "hovermode": "closest",
          "mapbox": {
           "style": "light"
          },
          "paper_bgcolor": "white",
          "plot_bgcolor": "#E5ECF6",
          "polar": {
           "angularaxis": {
            "gridcolor": "white",
            "linecolor": "white",
            "ticks": ""
           },
           "bgcolor": "#E5ECF6",
           "radialaxis": {
            "gridcolor": "white",
            "linecolor": "white",
            "ticks": ""
           }
          },
          "scene": {
           "xaxis": {
            "backgroundcolor": "#E5ECF6",
            "gridcolor": "white",
            "gridwidth": 2,
            "linecolor": "white",
            "showbackground": true,
            "ticks": "",
            "zerolinecolor": "white"
           },
           "yaxis": {
            "backgroundcolor": "#E5ECF6",
            "gridcolor": "white",
            "gridwidth": 2,
            "linecolor": "white",
            "showbackground": true,
            "ticks": "",
            "zerolinecolor": "white"
           },
           "zaxis": {
            "backgroundcolor": "#E5ECF6",
            "gridcolor": "white",
            "gridwidth": 2,
            "linecolor": "white",
            "showbackground": true,
            "ticks": "",
            "zerolinecolor": "white"
           }
          },
          "shapedefaults": {
           "line": {
            "color": "#2a3f5f"
           }
          },
          "ternary": {
           "aaxis": {
            "gridcolor": "white",
            "linecolor": "white",
            "ticks": ""
           },
           "baxis": {
            "gridcolor": "white",
            "linecolor": "white",
            "ticks": ""
           },
           "bgcolor": "#E5ECF6",
           "caxis": {
            "gridcolor": "white",
            "linecolor": "white",
            "ticks": ""
           }
          },
          "title": {
           "x": 0.05
          },
          "xaxis": {
           "automargin": true,
           "gridcolor": "white",
           "linecolor": "white",
           "ticks": "",
           "title": {
            "standoff": 15
           },
           "zerolinecolor": "white",
           "zerolinewidth": 2
          },
          "yaxis": {
           "automargin": true,
           "gridcolor": "white",
           "linecolor": "white",
           "ticks": "",
           "title": {
            "standoff": 15
           },
           "zerolinecolor": "white",
           "zerolinewidth": 2
          }
         }
        },
        "title": {
         "text": "NACA0008 Airfoil"
        },
        "xaxis": {
         "title": {
          "text": "x/c"
         }
        },
        "yaxis": {
         "scaleanchor": "x",
         "scaleratio": 1,
         "title": {
          "text": "y/c"
         }
        }
       }
      }
     },
     "metadata": {},
     "output_type": "display_data"
    }
   ],
   "source": [
    "fig = go.Figure()\n",
    "airfoil = Airfoil(name=\"NACA0012\")\n",
    "airfoil.draw(show=False, fig=fig, fill=False)\n",
    "airfoil2 = Airfoil(name=\"NACA0008\")\n",
    "airfoil2.draw(show=True, fig=fig, fill=False, color=\"green\")"
   ]
  },
  {
   "cell_type": "code",
   "execution_count": 91,
   "metadata": {},
   "outputs": [
    {
     "data": {
      "text/plain": [
       "{'lower_weights': array([-0.16965146, -0.09364138, -0.06345896, -0.0067966 , -0.0902447 ,\n",
       "         0.02081845, -0.03575216, -0.00223623]),\n",
       " 'upper_weights': array([0.18109497, 0.21268419, 0.28098503, 0.24864887, 0.2402814 ,\n",
       "        0.27262843, 0.25776474, 0.27817638]),\n",
       " 'leading_edge_weight': np.float64(0.10647339061374264),\n",
       " 'TE_thickness': np.float64(0.002572011317150083)}"
      ]
     },
     "execution_count": 91,
     "metadata": {},
     "output_type": "execute_result"
    }
   ],
   "source": [
    "kulfan = airfoil.to_kulfan_airfoil(n_weights_per_side=8)\n",
    "params = kulfan.kulfan_parameters\n",
    "params"
   ]
  },
  {
   "cell_type": "code",
   "execution_count": 102,
   "metadata": {},
   "outputs": [
    {
     "data": {
      "application/vnd.plotly.v1+json": {
       "config": {
        "plotlyServerURL": "https://plot.ly"
       },
       "data": [
        {
         "line": {
          "color": "blue"
         },
         "mode": "lines+markers",
         "name": "NACA4412",
         "type": "scatter",
         "x": {
          "bdata": "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",
          "dtype": "f8"
         },
         "y": {
          "bdata": "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",
          "dtype": "f8"
         }
        },
        {
         "line": {
          "color": "green"
         },
         "mode": "lines",
         "name": "Untitled",
         "type": "scatter",
         "x": {
          "bdata": "AAAAAAAA8D+L2yBWff/vPxeN2WD1/e8/POkrOWj77z/T4cMI1vfvP07d9Ak/8+8/Hf61h6Pt7z9IWp3dA+fvP4gj2ndg3+8/VcAt07nW7z9E1uN8EM3vP0BGyRJlwu8/NRsiQ7i27z/Ja57MCqrvP94vTn5dnO8/nAqUN7GN7z/yCRfoBn7vP1Fcs49fbe8/u/1pPrxb7z8oXU8UHknvP077eEGGNe8/EgTqBfYg7z/C436xbgvvP4LZ16Px9O4/MIhCTIDd7j9Dh6IpHMXuPxX1WMrGq+4/LwwrzIGR7j8tvSfcTnbuP/1OjLYvWu4/GgeoJiY97j+y274GNB/uP3cx6z9bAO4/Kqf+yZ3g7T+98GGr/b/tPyrE8/h8nu0/J9rm1R187T/EBJ9z4ljtP0JejRHNNO0/cJIL/d8P7T/WRDaRHersPxyWxjaIw+w/IsvqYyKc7D9MGB6c7nPsP5CT/2/vSuw/5k8ofSch7D/FpABumfbrP2yklPlHy+s/tsNn4zWf6z9Qtkf7ZXLrPzyCHh3bROs/e83DMJgW6z/qaM0poOfqP1sbXwf2t+o/5K/505yH6j+mSkmll1bqPx0H85vpJOo/PeNh45Xy6T+d+pKxn7/pP/AU4UYKjOk/PovP7dhX6T8wh9T6DiPpP8qfIsyv7eg/RNdxyb636D9G/cdjP4HoPzJ5QBU1Sug/FIDTYKMS6D/YuRzSjdrnP1hZIf33oec/DKsVfuVo5z8WHiL5WS/nP1/LJxpZ9eY/jX6ElOa65j/LRNYiBoDmPwSFvoa7ROY/q6WkiAoJ5j/RQ3j39szlP5b/cqiEkOU/2OHZdrdT5T84X75DkxblP1L8vvUb2eQ/YZfHeFWb5D9BW9G9Q13kP+hforrqHuQ/hPyMaU7g4z9Ezy7JcqHjPwV/L9xbYuM/Czv/qA0j4z/j/JQ5jOPiP7WQLJvbo+I/NGgE3v9j4j9YPBsV/SPiPzSC7VXX4+E/FrcyuJKj4T86iJpVM2PhP1XaiUm9IuE/NrXXsDTi4D/KF4qpnaHgP9G4klL8YOA/griLy1Qg4D/4juhoVr/fP16O2loHPt8/bNDrrMS83j+TlVCeljveP1JL7GyFut0/ie/KVJk53T/SkZqP2rjcP5b7JFRRONw/TofJ1QW42z+WL/dDADjbP5PepslIuNo/OgbWjOc42j/piQGu5LnZP/QBoUdIO9k/eGGibRq92D/1BuYsYz/YPy1Au4oqwtc/fUldhHhF1z880XAOVcnWP1wHghTITdY/kEGDeNnS1T9MPEwSkVjVP9QAGq/23tQ/XHgPERJm1D+otLbu6u3TP/b1gvKIdtM/aHZTuvP/0j/kAvfWMorSP0BpsMtNFdI/zsO7DUyh0T/oqdQDNS7RP09NvQUQvNA/UIzGW+RK0D+u/7F8crXPPzYb/qor184/5ArgcAL7zT/mojjaBCHNP9aAdc9AScw/QOOtFMRzyz/+0sFInKDKP0Kse+TWz8k/ihW0OYEByT8Kc3hyqDXIP4rjM5BZbMc/YtXaaqGlxj9sQBmwjOHFP4ySg+InIMU/VFzKWH9hxD8SyvA8n6XDPxD3hYuT7MI/vibhEmg2wj8m8WByKIPBP1BurRng0sA/6mz9R5olwD/QgL0WxPa+P3hjA4CEqL0/lD0PH4tgvD/spqng7B67PxxPy0m+47k/VNlNdhOvuD+AbKMXAIG3P/ANlXOXWbY/4NkHY+w4tT+8LslQER+0P6zeYTgYDLM/GHrwpBIAsj+kxgqwEfuwP4joTAFM+q8/4EQSlL8Mrj9gjn+VnS2sPzAQO5cEXao/IC2EPRKbqD8QPU894+emP6CucFqTQ6U/yIvXZT2uoz/4fNc7+yeiP+BngsLlsKA/oIcj0CmSnj+gfb9CP+GbPzCW4NA3T5k/8FoUdj3clj+QSMAyeIiUP+B1lAkOVJI/oMEe/SI/kD/gWP0aspOMP6AIdGyg6Ig/oA1l2Ex9hT/AMnk371GCP0DgXJt2zX4/QN4UjsF3eT+A1R9pFqN0PwA87hLET3A/ALilYiL8aD+A4gFKeFxiPwBlRRbsgVk/AFo8eO5TUD8ADltQG19CPwBIlzP5VDA/AKCO5DtVED8AAAAAAAAAAACgjuQ7VRA/AEiXM/lUMD8ADltQG19CPwBaPHjuU1A/AGVFFuyBWT8A4wFKeFxiPwC4pWIi/Gg/ADzuEsRPcD+A1R9pFqN0P0DeFI7Bd3k/QOBcm3bNfj/AMnk371GCP8ANZdhMfYU/oAh0bKDoiD/gWP0aspOMP7DBHv0iP5A/4HWUCQ5Ukj+gSMAyeIiUPwBbFHY93JY/MJbg0DdPmT+wfb9CP+GbP7CHI9Apkp4/4GeCwuWwoD/4fNc7+yeiP9CL12U9rqM/sK5wWpNDpT8QPU894+emPzAthD0Sm6g/MBA7lwRdqj9gjn+VnS2sP+hEEpS/DK4/kOhMAUz6rz+sxgqwEfuwPxh68KQSALI/rN5hOBgMsz/ILslQER+0P+TZB2PsOLU/9A2Vc5dZtj+EbKMXAIG3P1TZTXYTr7g/IE/LSb7juT/wpqng7B67P6Q9Dx+LYLw/fGMDgISovT/UgL0WxPa+P+xs/UeaJcA/Um6tGeDSwD8o8WByKIPBP8Am4RJoNsI/EveFi5Pswj8UyvA8n6XDP1Zcylh/YcQ/lJKD4icgxT9uQBmwjOHFP2rV2mqhpcY/jOMzkFlsxz8Mc3hyqDXIP4wVtDmBAck/Qqx75NbPyT8G08FInKDKP0LjrRTEc8s/2IB1z0BJzD/uojjaBCHNP+YK4HAC+80/OBv+qivXzj+w/7F8crXPP1CMxlvkStA/UE29BRC80D/oqdQDNS7RP9TDuw1ModE/Qmmwy00V0j/mAvfWMorSP2p2U7rz/9I/9/WC8oh20z+qtLbu6u3TP154DxESZtQ/1QAar/be1D9QPEwSkVjVP5BBg3jZ0tU/XQeCFMhN1j8+0XAOVcnWP35JXYR4Rdc/MEC7iirC1z/4BuYsYz/YP3hhom0avdg/9QGhR0g72T/qiQGu5LnZPzsG1oznONo/lt6myUi42j+YL/dDADjbP0+HydUFuNs/l/skVFE43D/TkZqP2rjcP4zvylSZOd0/VUvsbIW63T+UlVCeljveP23Q66zEvN4/X47aWgc+3z/7juhoVr/fP4S4i8tUIOA/0biSUvxg4D/KF4qpnaHgPza117A04uA/V9qJSb0i4T88iJpVM2PhPxe3MriSo+E/NYLtVdfj4T9ZPBsV/SPiPzVoBN7/Y+I/tpAsm9uj4j/j/JQ5jOPiPww7/6gNI+M/Bn8v3Fti4z9Ezy7JcqHjP4b8jGlO4OM/6l+iuuoe5D9CW9G9Q13kP2KXx3hVm+Q/Uvy+9RvZ5D84X75DkxblP9rh2Xa3U+U/lv9yqISQ5T/SQ3j39szlP6ylpIgKCeY/BYW+hrtE5j/MRNYiBoDmP45+hJTmuuY/YMsnGln15j8ZHiL5WS/nPwyrFX7laOc/WFkh/feh5z/YuRzSjdrnPxSA02CjEug/MnlAFTVK6D9H/cdjP4HoP0bXccm+t+g/yp8izK/t6D8wh9T6DiPpP0CLz+3YV+k/8BThRgqM6T+e+pKxn7/pPz7jYeOV8uk/Hgfzm+kk6j+oSkmll1bqP+Wv+dOch+o/XRtfB/a36j/raM0poOfqP3zNwzCYFus/PIIeHdtE6z9Qtkf7ZXLrP7bDZ+M1n+s/bKSU+UfL6z/GpABumfbrP+ZPKH0nIew/kZP/b+9K7D9OGB6c7nPsPyLL6mMinOw/HJbGNojD7D/WRDaRHersP3CSC/3fD+0/Ql6NEc007T/EBJ9z4ljtPyja5tUdfO0/KsTz+Hye7T+98GGr/b/tPyyn/smd4O0/eDHrP1sA7j+y274GNB/uPxoHqCYmPe4//U6Mti9a7j8uvSfcTnbuPy8MK8yBke4/FvVYysar7j9Eh6IpHMXuPzCIQkyA3e4/gtnXo/H07j/D436xbgvvPxME6gX2IO8/Tvt4QYY17z8oXU8UHknvP7z9aT68W+8/UVyzj19t7z/zCRfoBn7vP5wKlDexje8/3i9Ofl2c7z/Ka57MCqrvPzUbIkO4tu8/QEbJEmXC7z9E1uN8EM3vP1XALdO51u8/iCPad2Df7z9IWp3dA+fvPx7+tYej7e8/Tt30CT/z7z/T4cMI1vfvPzzpKzlo++8/F43ZYPX97z+L2yBWff/vPwAAAAAAAPA/",
          "dtype": "f8"
         },
         "y": {
          "bdata": "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",
          "dtype": "f8"
         }
        }
       ],
       "layout": {
        "template": {
         "data": {
          "bar": [
           {
            "error_x": {
             "color": "#2a3f5f"
            },
            "error_y": {
             "color": "#2a3f5f"
            },
            "marker": {
             "line": {
              "color": "#E5ECF6",
              "width": 0.5
             },
             "pattern": {
              "fillmode": "overlay",
              "size": 10,
              "solidity": 0.2
             }
            },
            "type": "bar"
           }
          ],
          "barpolar": [
           {
            "marker": {
             "line": {
              "color": "#E5ECF6",
              "width": 0.5
             },
             "pattern": {
              "fillmode": "overlay",
              "size": 10,
              "solidity": 0.2
             }
            },
            "type": "barpolar"
           }
          ],
          "carpet": [
           {
            "aaxis": {
             "endlinecolor": "#2a3f5f",
             "gridcolor": "white",
             "linecolor": "white",
             "minorgridcolor": "white",
             "startlinecolor": "#2a3f5f"
            },
            "baxis": {
             "endlinecolor": "#2a3f5f",
             "gridcolor": "white",
             "linecolor": "white",
             "minorgridcolor": "white",
             "startlinecolor": "#2a3f5f"
            },
            "type": "carpet"
           }
          ],
          "choropleth": [
           {
            "colorbar": {
             "outlinewidth": 0,
             "ticks": ""
            },
            "type": "choropleth"
           }
          ],
          "contour": [
           {
            "colorbar": {
             "outlinewidth": 0,
             "ticks": ""
            },
            "colorscale": [
             [
              0,
              "#0d0887"
             ],
             [
              0.1111111111111111,
              "#46039f"
             ],
             [
              0.2222222222222222,
              "#7201a8"
             ],
             [
              0.3333333333333333,
              "#9c179e"
             ],
             [
              0.4444444444444444,
              "#bd3786"
             ],
             [
              0.5555555555555556,
              "#d8576b"
             ],
             [
              0.6666666666666666,
              "#ed7953"
             ],
             [
              0.7777777777777778,
              "#fb9f3a"
             ],
             [
              0.8888888888888888,
              "#fdca26"
             ],
             [
              1,
              "#f0f921"
             ]
            ],
            "type": "contour"
           }
          ],
          "contourcarpet": [
           {
            "colorbar": {
             "outlinewidth": 0,
             "ticks": ""
            },
            "type": "contourcarpet"
           }
          ],
          "heatmap": [
           {
            "colorbar": {
             "outlinewidth": 0,
             "ticks": ""
            },
            "colorscale": [
             [
              0,
              "#0d0887"
             ],
             [
              0.1111111111111111,
              "#46039f"
             ],
             [
              0.2222222222222222,
              "#7201a8"
             ],
             [
              0.3333333333333333,
              "#9c179e"
             ],
             [
              0.4444444444444444,
              "#bd3786"
             ],
             [
              0.5555555555555556,
              "#d8576b"
             ],
             [
              0.6666666666666666,
              "#ed7953"
             ],
             [
              0.7777777777777778,
              "#fb9f3a"
             ],
             [
              0.8888888888888888,
              "#fdca26"
             ],
             [
              1,
              "#f0f921"
             ]
            ],
            "type": "heatmap"
           }
          ],
          "histogram": [
           {
            "marker": {
             "pattern": {
              "fillmode": "overlay",
              "size": 10,
              "solidity": 0.2
             }
            },
            "type": "histogram"
           }
          ],
          "histogram2d": [
           {
            "colorbar": {
             "outlinewidth": 0,
             "ticks": ""
            },
            "colorscale": [
             [
              0,
              "#0d0887"
             ],
             [
              0.1111111111111111,
              "#46039f"
             ],
             [
              0.2222222222222222,
              "#7201a8"
             ],
             [
              0.3333333333333333,
              "#9c179e"
             ],
             [
              0.4444444444444444,
              "#bd3786"
             ],
             [
              0.5555555555555556,
              "#d8576b"
             ],
             [
              0.6666666666666666,
              "#ed7953"
             ],
             [
              0.7777777777777778,
              "#fb9f3a"
             ],
             [
              0.8888888888888888,
              "#fdca26"
             ],
             [
              1,
              "#f0f921"
             ]
            ],
            "type": "histogram2d"
           }
          ],
          "histogram2dcontour": [
           {
            "colorbar": {
             "outlinewidth": 0,
             "ticks": ""
            },
            "colorscale": [
             [
              0,
              "#0d0887"
             ],
             [
              0.1111111111111111,
              "#46039f"
             ],
             [
              0.2222222222222222,
              "#7201a8"
             ],
             [
              0.3333333333333333,
              "#9c179e"
             ],
             [
              0.4444444444444444,
              "#bd3786"
             ],
             [
              0.5555555555555556,
              "#d8576b"
             ],
             [
              0.6666666666666666,
              "#ed7953"
             ],
             [
              0.7777777777777778,
              "#fb9f3a"
             ],
             [
              0.8888888888888888,
              "#fdca26"
             ],
             [
              1,
              "#f0f921"
             ]
            ],
            "type": "histogram2dcontour"
           }
          ],
          "mesh3d": [
           {
            "colorbar": {
             "outlinewidth": 0,
             "ticks": ""
            },
            "type": "mesh3d"
           }
          ],
          "parcoords": [
           {
            "line": {
             "colorbar": {
              "outlinewidth": 0,
              "ticks": ""
             }
            },
            "type": "parcoords"
           }
          ],
          "pie": [
           {
            "automargin": true,
            "type": "pie"
           }
          ],
          "scatter": [
           {
            "fillpattern": {
             "fillmode": "overlay",
             "size": 10,
             "solidity": 0.2
            },
            "type": "scatter"
           }
          ],
          "scatter3d": [
           {
            "line": {
             "colorbar": {
              "outlinewidth": 0,
              "ticks": ""
             }
            },
            "marker": {
             "colorbar": {
              "outlinewidth": 0,
              "ticks": ""
             }
            },
            "type": "scatter3d"
           }
          ],
          "scattercarpet": [
           {
            "marker": {
             "colorbar": {
              "outlinewidth": 0,
              "ticks": ""
             }
            },
            "type": "scattercarpet"
           }
          ],
          "scattergeo": [
           {
            "marker": {
             "colorbar": {
              "outlinewidth": 0,
              "ticks": ""
             }
            },
            "type": "scattergeo"
           }
          ],
          "scattergl": [
           {
            "marker": {
             "colorbar": {
              "outlinewidth": 0,
              "ticks": ""
             }
            },
            "type": "scattergl"
           }
          ],
          "scattermap": [
           {
            "marker": {
             "colorbar": {
              "outlinewidth": 0,
              "ticks": ""
             }
            },
            "type": "scattermap"
           }
          ],
          "scattermapbox": [
           {
            "marker": {
             "colorbar": {
              "outlinewidth": 0,
              "ticks": ""
             }
            },
            "type": "scattermapbox"
           }
          ],
          "scatterpolar": [
           {
            "marker": {
             "colorbar": {
              "outlinewidth": 0,
              "ticks": ""
             }
            },
            "type": "scatterpolar"
           }
          ],
          "scatterpolargl": [
           {
            "marker": {
             "colorbar": {
              "outlinewidth": 0,
              "ticks": ""
             }
            },
            "type": "scatterpolargl"
           }
          ],
          "scatterternary": [
           {
            "marker": {
             "colorbar": {
              "outlinewidth": 0,
              "ticks": ""
             }
            },
            "type": "scatterternary"
           }
          ],
          "surface": [
           {
            "colorbar": {
             "outlinewidth": 0,
             "ticks": ""
            },
            "colorscale": [
             [
              0,
              "#0d0887"
             ],
             [
              0.1111111111111111,
              "#46039f"
             ],
             [
              0.2222222222222222,
              "#7201a8"
             ],
             [
              0.3333333333333333,
              "#9c179e"
             ],
             [
              0.4444444444444444,
              "#bd3786"
             ],
             [
              0.5555555555555556,
              "#d8576b"
             ],
             [
              0.6666666666666666,
              "#ed7953"
             ],
             [
              0.7777777777777778,
              "#fb9f3a"
             ],
             [
              0.8888888888888888,
              "#fdca26"
             ],
             [
              1,
              "#f0f921"
             ]
            ],
            "type": "surface"
           }
          ],
          "table": [
           {
            "cells": {
             "fill": {
              "color": "#EBF0F8"
             },
             "line": {
              "color": "white"
             }
            },
            "header": {
             "fill": {
              "color": "#C8D4E3"
             },
             "line": {
              "color": "white"
             }
            },
            "type": "table"
           }
          ]
         },
         "layout": {
          "annotationdefaults": {
           "arrowcolor": "#2a3f5f",
           "arrowhead": 0,
           "arrowwidth": 1
          },
          "autotypenumbers": "strict",
          "coloraxis": {
           "colorbar": {
            "outlinewidth": 0,
            "ticks": ""
           }
          },
          "colorscale": {
           "diverging": [
            [
             0,
             "#8e0152"
            ],
            [
             0.1,
             "#c51b7d"
            ],
            [
             0.2,
             "#de77ae"
            ],
            [
             0.3,
             "#f1b6da"
            ],
            [
             0.4,
             "#fde0ef"
            ],
            [
             0.5,
             "#f7f7f7"
            ],
            [
             0.6,
             "#e6f5d0"
            ],
            [
             0.7,
             "#b8e186"
            ],
            [
             0.8,
             "#7fbc41"
            ],
            [
             0.9,
             "#4d9221"
            ],
            [
             1,
             "#276419"
            ]
           ],
           "sequential": [
            [
             0,
             "#0d0887"
            ],
            [
             0.1111111111111111,
             "#46039f"
            ],
            [
             0.2222222222222222,
             "#7201a8"
            ],
            [
             0.3333333333333333,
             "#9c179e"
            ],
            [
             0.4444444444444444,
             "#bd3786"
            ],
            [
             0.5555555555555556,
             "#d8576b"
            ],
            [
             0.6666666666666666,
             "#ed7953"
            ],
            [
             0.7777777777777778,
             "#fb9f3a"
            ],
            [
             0.8888888888888888,
             "#fdca26"
            ],
            [
             1,
             "#f0f921"
            ]
           ],
           "sequentialminus": [
            [
             0,
             "#0d0887"
            ],
            [
             0.1111111111111111,
             "#46039f"
            ],
            [
             0.2222222222222222,
             "#7201a8"
            ],
            [
             0.3333333333333333,
             "#9c179e"
            ],
            [
             0.4444444444444444,
             "#bd3786"
            ],
            [
             0.5555555555555556,
             "#d8576b"
            ],
            [
             0.6666666666666666,
             "#ed7953"
            ],
            [
             0.7777777777777778,
             "#fb9f3a"
            ],
            [
             0.8888888888888888,
             "#fdca26"
            ],
            [
             1,
             "#f0f921"
            ]
           ]
          },
          "colorway": [
           "#636efa",
           "#EF553B",
           "#00cc96",
           "#ab63fa",
           "#FFA15A",
           "#19d3f3",
           "#FF6692",
           "#B6E880",
           "#FF97FF",
           "#FECB52"
          ],
          "font": {
           "color": "#2a3f5f"
          },
          "geo": {
           "bgcolor": "white",
           "lakecolor": "white",
           "landcolor": "#E5ECF6",
           "showlakes": true,
           "showland": true,
           "subunitcolor": "white"
          },
          "hoverlabel": {
           "align": "left"
          },
          "hovermode": "closest",
          "mapbox": {
           "style": "light"
          },
          "paper_bgcolor": "white",
          "plot_bgcolor": "#E5ECF6",
          "polar": {
           "angularaxis": {
            "gridcolor": "white",
            "linecolor": "white",
            "ticks": ""
           },
           "bgcolor": "#E5ECF6",
           "radialaxis": {
            "gridcolor": "white",
            "linecolor": "white",
            "ticks": ""
           }
          },
          "scene": {
           "xaxis": {
            "backgroundcolor": "#E5ECF6",
            "gridcolor": "white",
            "gridwidth": 2,
            "linecolor": "white",
            "showbackground": true,
            "ticks": "",
            "zerolinecolor": "white"
           },
           "yaxis": {
            "backgroundcolor": "#E5ECF6",
            "gridcolor": "white",
            "gridwidth": 2,
            "linecolor": "white",
            "showbackground": true,
            "ticks": "",
            "zerolinecolor": "white"
           },
           "zaxis": {
            "backgroundcolor": "#E5ECF6",
            "gridcolor": "white",
            "gridwidth": 2,
            "linecolor": "white",
            "showbackground": true,
            "ticks": "",
            "zerolinecolor": "white"
           }
          },
          "shapedefaults": {
           "line": {
            "color": "#2a3f5f"
           }
          },
          "ternary": {
           "aaxis": {
            "gridcolor": "white",
            "linecolor": "white",
            "ticks": ""
           },
           "baxis": {
            "gridcolor": "white",
            "linecolor": "white",
            "ticks": ""
           },
           "bgcolor": "#E5ECF6",
           "caxis": {
            "gridcolor": "white",
            "linecolor": "white",
            "ticks": ""
           }
          },
          "title": {
           "x": 0.05
          },
          "xaxis": {
           "automargin": true,
           "gridcolor": "white",
           "linecolor": "white",
           "ticks": "",
           "title": {
            "standoff": 15
           },
           "zerolinecolor": "white",
           "zerolinewidth": 2
          },
          "yaxis": {
           "automargin": true,
           "gridcolor": "white",
           "linecolor": "white",
           "ticks": "",
           "title": {
            "standoff": 15
           },
           "zerolinecolor": "white",
           "zerolinewidth": 2
          }
         }
        },
        "title": {
         "text": "Untitled Airfoil"
        },
        "xaxis": {
         "title": {
          "text": "x/c"
         }
        },
        "yaxis": {
         "scaleanchor": "x",
         "scaleratio": 1,
         "title": {
          "text": "y/c"
         }
        }
       }
      }
     },
     "metadata": {},
     "output_type": "display_data"
    }
   ],
   "source": [
    "fig = go.Figure()\n",
    "airfoil = Airfoil(name=\"NACA4412\")\n",
    "airfoil.draw(show=False, fig=fig, fill=False)\n",
    "random_kulfan = KulfanAirfoil(lower_weights=np.array([1, 1]), upper_weights=np.array([0.2,0.2]), leading_edge_weight=0, TE_thickness=0, N1=0.5, N2=1)\n",
    "random_kulfan.draw(fig=fig, show=True, fill=False, color=\"green\")"
   ]
  },
  {
   "cell_type": "code",
   "execution_count": null,
   "metadata": {},
   "outputs": [],
   "source": [
    "from src import run_xfoil\n",
    "output = run_xfoil(airfoil, 0, 80, 2)\n",
    "output"
   ]
  },
  {
   "cell_type": "code",
   "execution_count": null,
   "metadata": {},
   "outputs": [],
   "source": [
    "output = airfoil.generate_polars(alpha_i=-5, alpha_f=20, alpha_step=0.25)"
   ]
  },
  {
   "cell_type": "code",
   "execution_count": null,
   "metadata": {},
   "outputs": [],
   "source": [
    "airfoil.plot_polars()"
   ]
  },
  {
   "cell_type": "code",
   "execution_count": null,
   "metadata": {},
   "outputs": [],
   "source": [
    "airfoil.polars[0]"
   ]
  },
  {
   "cell_type": "code",
   "execution_count": 3,
   "metadata": {},
   "outputs": [],
   "source": [
    "airfoil_database_path = asb._asb_root / \"geometry\" / \"airfoil\" / \"airfoil_database\"\n",
    "\n",
    "UIUC_airfoils = [\n",
    "    asb.Airfoil(name=filename.stem).normalize()\n",
    "    for filename in airfoil_database_path.iterdir() if filename.suffix == \".dat\"\n",
    "]"
   ]
  },
  {
   "cell_type": "code",
   "execution_count": 11,
   "metadata": {},
   "outputs": [],
   "source": [
    "rand_airfoil = lambda: np.random.choice(UIUC_airfoils)\n",
    "airfoil = rand_airfoil()"
   ]
  },
  {
   "cell_type": "code",
   "execution_count": null,
   "metadata": {},
   "outputs": [],
   "source": [
    "airfoil.generate_polars()\n",
    "airfoil.plot_polars()"
   ]
  }
 ],
 "metadata": {
  "kernelspec": {
   "display_name": ".venv",
   "language": "python",
   "name": "python3"
  },
  "language_info": {
   "codemirror_mode": {
    "name": "ipython",
    "version": 3
   },
   "file_extension": ".py",
   "mimetype": "text/x-python",
   "name": "python",
   "nbconvert_exporter": "python",
   "pygments_lexer": "ipython3",
   "version": "3.11.9"
  }
 },
 "nbformat": 4,
 "nbformat_minor": 2
}
