{
 "cells": [
  {
   "cell_type": "code",
   "execution_count": 2,
   "metadata": {},
   "outputs": [
    {
     "name": "stdout",
     "output_type": "stream",
     "text": [
      "The autoreload extension is already loaded. To reload it, use:\n",
      "  %reload_ext autoreload\n"
     ]
    }
   ],
   "source": [
    "%load_ext autoreload\n",
    "%autoreload 2\n",
    "\n",
    "import os\n",
    "import sys\n",
    "\n",
    "# Build an absolute path from this notebook's parent directory\n",
    "module_path = os.path.abspath(\"../\")\n",
    "\n",
    "# Add to sys.path if not already present\n",
    "if module_path not in sys.path:\n",
    "    sys.path.append(module_path)\n",
    "\n",
    "import aerosandbox as asb\n",
    "import aerosandbox.numpy as np\n",
    "import pandas as pd\n",
    "from matplotlib import pyplot as plt\n",
    "from src.airfoil.compute_airfoil_quality import compute_airfoil_quality, QualityError\n",
    "\n",
    "import plotly.express as px"
   ]
  },
  {
   "cell_type": "markdown",
   "metadata": {},
   "source": [
    "## Extraction"
   ]
  },
  {
   "cell_type": "code",
   "execution_count": null,
   "metadata": {},
   "outputs": [],
   "source": [
    "airfoil_database_path = asb._asb_root / \"geometry\" / \"airfoil\" / \"airfoil_database\"\n",
    "\n",
    "airfoil_database = [\n",
    "    asb.Airfoil(name=filename.stem).normalize()\n",
    "    for filename in airfoil_database_path.glob(\"*.dat\")\n",
    "]"
   ]
  },
  {
   "cell_type": "markdown",
   "metadata": {},
   "source": [
    "## Preprocessing"
   ]
  },
  {
   "cell_type": "markdown",
   "metadata": {},
   "source": [
    "### Quality check"
   ]
  },
  {
   "cell_type": "code",
   "execution_count": null,
   "metadata": {},
   "outputs": [],
   "source": [
    "# Remove airfoils that don't pass the quality tests\n",
    "quality_airfoil_database = airfoil_database.copy()\n",
    "\n",
    "for af in airfoil_database:\n",
    "    try:\n",
    "        compute_airfoil_quality(af, airfoil_database_path)\n",
    "    except QualityError as e:\n",
    "        quality_airfoil_database.remove(af)\n",
    "        print(f\"Airfoil {af.name.ljust(20)} failed quality checks: {e}\")\n",
    "        # af.draw()"
   ]
  },
  {
   "cell_type": "markdown",
   "metadata": {},
   "source": [
    "### Dataframe"
   ]
  },
  {
   "cell_type": "markdown",
   "metadata": {},
   "source": [
    "### Coordinates standardization"
   ]
  },
  {
   "cell_type": "code",
   "execution_count": null,
   "metadata": {},
   "outputs": [],
   "source": [
    "def build_dataset(airfoils_database: list):\n",
    "  airfoils_data = []\n",
    "\n",
    "  for airfoil in airfoils_database:\n",
    "    airfoils_data.append([airfoil.name, airfoil.coordinates])\n",
    "\n",
    "  airfoil_dataset = pd.DataFrame(airfoils_data, columns=[\"airfoil_name\", \"coordinates\"])\n",
    "  airfoil_dataset[\"shape\"] = airfoil_dataset.coordinates.apply(lambda coords: coords.shape)\n",
    "  airfoil_dataset[\"points\"] = airfoil_dataset[\"shape\"].apply(lambda shape: shape[0])\n",
    "\n",
    "  return airfoil_dataset\n",
    "\n",
    "airfoil_dataset = build_dataset(quality_airfoil_database)\n",
    "display(airfoil_dataset)"
   ]
  },
  {
   "cell_type": "code",
   "execution_count": null,
   "metadata": {},
   "outputs": [],
   "source": [
    "fig = px.histogram(airfoil_dataset, x=\"points\", title=\"Total number of points distribution\")\n",
    "fig.show()"
   ]
  },
  {
   "cell_type": "markdown",
   "metadata": {},
   "source": [
    "### Coordinates standardization"
   ]
  },
  {
   "cell_type": "code",
   "execution_count": null,
   "metadata": {},
   "outputs": [],
   "source": [
    "# The number of coordinates for each airfoil is inconsistent across the database, so we use Cubic splines interpolation to standadize the coordinates\n",
    "n_points_per_side = 40\n",
    "std_airfoil_database = [airfoil.repanel(n_points_per_side) for airfoil in quality_airfoil_database]\n",
    "\n",
    "std_airfoil_dataset = build_dataset(std_airfoil_database)\n",
    "display(std_airfoil_dataset)"
   ]
  },
  {
   "cell_type": "code",
   "execution_count": null,
   "metadata": {},
   "outputs": [],
   "source": [
    "std_airfoil_dataset[\"points\"].describe()"
   ]
  },
  {
   "cell_type": "markdown",
   "metadata": {},
   "source": [
    "### Saving dataset"
   ]
  },
  {
   "cell_type": "code",
   "execution_count": null,
   "metadata": {},
   "outputs": [],
   "source": [
    "std_airfoil_dataset.to_pickle(rf\"../data/processed/airfoil_dataset_{n_points_per_side}.pkl\")\n",
    "std_airfoil_dataset.to_json(rf\"../data/processed/airfoil_dataset_{n_points_per_side}.json\")"
   ]
  }
 ],
 "metadata": {
  "kernelspec": {
   "display_name": ".venv",
   "language": "python",
   "name": "python3"
  },
  "language_info": {
   "codemirror_mode": {
    "name": "ipython",
    "version": 3
   },
   "file_extension": ".py",
   "mimetype": "text/x-python",
   "name": "python",
   "nbconvert_exporter": "python",
   "pygments_lexer": "ipython3",
   "version": "3.13.1"
  }
 },
 "nbformat": 4,
 "nbformat_minor": 2
}
