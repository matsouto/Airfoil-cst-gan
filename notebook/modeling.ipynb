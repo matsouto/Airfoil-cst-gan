{
 "cells": [
  {
   "cell_type": "code",
   "execution_count": 266,
   "metadata": {},
   "outputs": [
    {
     "name": "stdout",
     "output_type": "stream",
     "text": [
      "The autoreload extension is already loaded. To reload it, use:\n",
      "  %reload_ext autoreload\n"
     ]
    }
   ],
   "source": [
    "%load_ext autoreload\n",
    "%autoreload 2\n",
    "\n",
    "import os\n",
    "import sys\n",
    "\n",
    "# Build an absolute path from this notebook's parent directory\n",
    "module_path = os.path.abspath(\"../\")\n",
    "\n",
    "# Add to sys.path if not already present\n",
    "if module_path not in sys.path:\n",
    "    sys.path.append(module_path)\n",
    "\n",
    "import numpy as np\n",
    "\n",
    "import tensorflow as tf\n",
    "from tensorflow.keras.layers import Input, Dense, BatchNormalization, LeakyReLU, Conv2DTranspose, Conv2D, Reshape, Dropout, Flatten\n",
    "\n",
    "from aerosandbox import Airfoil, KulfanAirfoil\n",
    "from src.Airfoil import airfoil_modifications\n",
    "\n",
    "import plotly.graph_objects as go"
   ]
  },
  {
   "cell_type": "code",
   "execution_count": 214,
   "metadata": {},
   "outputs": [],
   "source": [
    "import numpy as np\n",
    "from scipy.special import comb\n",
    "import tensorflow as tf\n",
    "from tensorflow.keras.layers import Layer\n",
    "\n",
    "class CSTLayer(tf.keras.layers.Layer):\n",
    "    def __init__(self, **kwargs):\n",
    "        super(CSTLayer, self).__init__(**kwargs)\n",
    "        self.N1 = 0.5\n",
    "        self.N2 = 1\n",
    "        self.TE_thickness = 0.0\n",
    "        self.leading_edge_weight = 0.0\n",
    "        self.n_points_per_side = 75\n",
    "\n",
    "    def call(self, inputs):\n",
    "        # Inputs is a 3D tensor: (batch_size, 2, num_weights)\n",
    "        # For example, shape: (batch_size, 2, 12)\n",
    "        batch_size = tf.shape(inputs)[0]\n",
    "        num_weights = tf.shape(inputs)[2]\n",
    "\n",
    "        # Split into lower and upper weights\n",
    "        lower_weights = inputs[:, 0, :]  # Shape: (batch_size, num_weights)\n",
    "        upper_weights = inputs[:, 1, :]  # Shape: (batch_size, num_weights)\n",
    "\n",
    "        # Generate cosinically spaced points\n",
    "        x = (1 - tf.cos(tf.linspace(0.0, np.pi, self.n_points_per_side))) / 2  # Shape: (n_points_per_side,)\n",
    "\n",
    "        # Class function\n",
    "        C = (x ** self.N1) * ((1 - x) ** self.N2)  # Shape: (n_points_per_side,)\n",
    "\n",
    "        def shape_function(w):\n",
    "            # Shape function (Bernstein polynomials)\n",
    "            N = tf.cast(tf.shape(w)[1] - 1, dtype=tf.float32)  # num_weights - 1\n",
    "\n",
    "            # Bernstein binomial coefficients\n",
    "            K = tf.cast(comb(N.numpy(), np.arange(N.numpy() + 1)), dtype=tf.float32)  # Shape: (num_weights,)\n",
    "\n",
    "            # Expand dimensions for broadcasting\n",
    "            K = tf.expand_dims(K, axis=-1)  # Shape: (num_weights, 1)\n",
    "            x_expanded = tf.expand_dims(x, axis=0)  # Shape: (1, n_points_per_side)\n",
    "            arange = tf.expand_dims(tf.cast(tf.range(N + 1), dtype=tf.float32), axis=-1)  # Shape: (num_weights, 1)\n",
    "\n",
    "            # Compute Bernstein polynomials\n",
    "            S_matrix = (\n",
    "                K\n",
    "                * (x_expanded ** arange)\n",
    "                * ((1 - x_expanded) ** (N - arange))\n",
    "            )  # Shape: (num_weights, n_points_per_side)\n",
    "\n",
    "            # Multiply by weights and sum over the Bernstein polynomials\n",
    "            w_expanded = tf.expand_dims(w, axis=-1)  # Shape: (batch_size, num_weights, 1)\n",
    "            S_x = tf.reduce_sum(w_expanded * S_matrix, axis=1)  # Shape: (batch_size, n_points_per_side)\n",
    "\n",
    "            # Calculate the output y\n",
    "            y = C * S_x  # Shape: (batch_size, n_points_per_side)\n",
    "            return y\n",
    "\n",
    "        # Apply shape function to lower and upper weights\n",
    "        y_lower = shape_function(lower_weights)  # Shape: (batch_size, n_points_per_side)\n",
    "        y_upper = shape_function(upper_weights)  # Shape: (batch_size, n_points_per_side)\n",
    "\n",
    "        # Trailing edge thickness (TE thickness)\n",
    "        y_lower -= x * self.TE_thickness / 2  # Shape: (batch_size, n_points_per_side)\n",
    "        y_upper += x * self.TE_thickness / 2  # Shape: (batch_size, n_points_per_side)\n",
    "\n",
    "        # Leading edge modification (LEM)\n",
    "        y_lower += self.leading_edge_weight * x * (1 - x) ** (tf.cast(num_weights, dtype=tf.float32) + 0.5)\n",
    "        y_upper += self.leading_edge_weight * x * (1 - x) ** (tf.cast(num_weights, dtype=tf.float32) + 0.5)\n",
    "\n",
    "        # Create airfoil coordinates\n",
    "        x = tf.tile(tf.expand_dims(x, axis=0), [batch_size, 1])  # Shape: (batch_size, n_points_per_side)\n",
    "        x = tf.concat([x[:, ::-1], x[:, 1:]], axis=1)  # Shape: (batch_size, 2 * n_points_per_side - 1)\n",
    "        y = tf.concat([y_upper[:, ::-1], y_lower[:, 1:]], axis=1)  # Shape: (batch_size, 2 * n_points_per_side - 1)\n",
    "\n",
    "        # Stack x and y coordinates\n",
    "        coordinates = tf.stack([x, y], axis=-1)  # Shape: (batch_size, 2 * n_points_per_side - 1, 2)\n",
    "        return coordinates"
   ]
  },
  {
   "cell_type": "code",
   "execution_count": 236,
   "metadata": {},
   "outputs": [
    {
     "name": "stdout",
     "output_type": "stream",
     "text": [
      "Output shape:  (2, 149, 2)\n"
     ]
    }
   ],
   "source": [
    "class CSTGenerator(tf.keras.Model):\n",
    "    '''\n",
    "    * Refs: \n",
    "        - Lin, Jinxing & Zhang, Chenliang & Xie, Xiaoye & Shi, Xingyu & Xu, Xiaoyu & Duan, Yanhui. (2022). CST-GANs: A Generative Adversarial Network Based on CST Parameterization for the Generation of Smooth Airfoils. 600-605. 10.1109/ICUS55513.2022.9987080. \n",
    "    '''\n",
    "    def __init__(self, npv: int = 12, latent_dim: int = 128, kernel_size: tuple = (2,4), depth: int = 256):\n",
    "        super().__init__()\n",
    "\n",
    "        # --- Parameters ---\n",
    "\n",
    "        '''\n",
    "        * npv: Number of parameterized variables\n",
    "        * latent_dim: Dimension of input vector (latent vector)\n",
    "        * depth: Number of channels after first dense layer\n",
    "        '''\n",
    "\n",
    "        self.npv = npv\n",
    "        self.latent_dim = latent_dim\n",
    "        self.kernel_size = kernel_size\n",
    "        self.depth = depth\n",
    "\n",
    "        # --- Layers ---\n",
    "\n",
    "        # Fully connected layers\n",
    "        self.dense1 = Dense(self.depth * 2 * self.npv, input_shape=(self.latent_dim,))\n",
    "        self.batch1 = BatchNormalization(momentum=0.9)\n",
    "        self.leaky_relu1 = LeakyReLU(0.2)\n",
    "        \n",
    "        self.reshape = Reshape((2, self.npv, self.depth))\n",
    "\n",
    "        # Transposed convolutions\n",
    "        self.deconv1 = Conv2DTranspose(int(self.depth / 2), self.kernel_size, strides=(1,2), padding='same')\n",
    "        self.batch2 = BatchNormalization(momentum=0.9)\n",
    "        self.leaky_relu2 = LeakyReLU(0.2)\n",
    "\n",
    "        self.deconv2 = Conv2DTranspose(int(self.depth / 4), self.kernel_size, strides=(1,2), padding='same')\n",
    "        self.batch3 = BatchNormalization(momentum=0.9)\n",
    "        self.leaky_relu3 = LeakyReLU(0.2)\n",
    "\n",
    "        self.deconv3 = Conv2DTranspose(int(self.depth / 8), self.kernel_size, strides=(1,2), padding='same')\n",
    "        self.batch4 = BatchNormalization(momentum=0.9)\n",
    "        self.leaky_relu4 = LeakyReLU(0.2)\n",
    "\n",
    "        # Convolutional layers\n",
    "        self.conv1 = Conv2D(int(self.depth / 16), self.kernel_size, strides=(1,2), padding=\"same\")\n",
    "        self.batch5 = BatchNormalization(momentum=0.9)\n",
    "        self.leaky_relu5 = LeakyReLU(0.2)\n",
    "\n",
    "        self.conv2 = Conv2D(int(self.depth / 32), self.kernel_size, strides=(1,2), padding=\"same\")\n",
    "        self.batch6 = BatchNormalization(momentum=0.9)\n",
    "        self.leaky_relu6 = LeakyReLU(0.2)\n",
    "\n",
    "        self.conv3 = Conv2D(1, self.kernel_size, strides=(1,2), padding=\"same\", activation=\"tanh\")\n",
    "\n",
    "        # Output layers\n",
    "        self.final_reshape = Reshape((2, self.npv))\n",
    "\n",
    "        # Class-Shape Transformation\n",
    "        self.cst_transform = CSTLayer()\n",
    "\n",
    "    def call(self, inputs):\n",
    "        x = self.dense1(inputs)\n",
    "        x = self.batch1(x)\n",
    "        x = self.leaky_relu1(x)\n",
    "\n",
    "        x = self.reshape(x)\n",
    "\n",
    "        x = self.deconv1(x)\n",
    "        x = self.batch2(x)\n",
    "        x = self.leaky_relu2(x)\n",
    "\n",
    "        x = self.deconv2(x)\n",
    "        x = self.batch3(x)\n",
    "        x = self.leaky_relu3(x)\n",
    "\n",
    "        x = self.deconv3(x)\n",
    "        x = self.batch4(x)\n",
    "        x = self.leaky_relu4(x)\n",
    "\n",
    "        x = self.conv1(x)\n",
    "        x = self.batch5(x)\n",
    "        x = self.leaky_relu5(x)\n",
    "\n",
    "        x = self.conv2(x)\n",
    "        x = self.batch6(x)\n",
    "        x = self.leaky_relu6(x)\n",
    "\n",
    "        x = self.conv3(x)\n",
    "        weights = self.final_reshape(x)\n",
    "\n",
    "        coordinates = self.cst_transform(weights)\n",
    "\n",
    "        return coordinates, weights\n",
    "\n",
    "cst_generator = CSTGenerator()\n",
    "latent_vector = tf.random.normal([2, 128])\n",
    "coords, weights = cst_generator(latent_vector)\n",
    "print(\"Output shape: \", coords.shape)"
   ]
  },
  {
   "cell_type": "code",
   "execution_count": 264,
   "metadata": {},
   "outputs": [
    {
     "data": {
      "text/plain": [
       "0.5051969885826111"
      ]
     },
     "execution_count": 264,
     "metadata": {},
     "output_type": "execute_result"
    }
   ],
   "source": [
    "class CSTDiscriminator(tf.keras.Model):\n",
    "    '''\n",
    "    * Refs: \n",
    "        - Lin, Jinxing & Zhang, Chenliang & Xie, Xiaoye & Shi, Xingyu & Xu, Xiaoyu & Duan, Yanhui. (2022). CST-GANs: A Generative Adversarial Network Based on CST Parameterization for the Generation of Smooth Airfoils. 600-605. 10.1109/ICUS55513.2022.9987080. \n",
    "    '''\n",
    "    def __init__(self, kernel_size: tuple = (2,3), dropout: float = 0.4, depth: int = 8, dense_units: int = 256):\n",
    "        super().__init__()\n",
    "        \n",
    "        # --- Parameters ---\n",
    "\n",
    "        self.kernel_size = kernel_size\n",
    "        self.dropout = dropout\n",
    "        self.depth = depth\n",
    "        self.dense_units = dense_units\n",
    "\n",
    "        # --- Layers ---\n",
    "\n",
    "        # Convolutional layers\n",
    "        self.conv1 = Conv2D(self.depth * 2, self.kernel_size, strides=(1,1), padding=\"same\")\n",
    "        self.batch1 = BatchNormalization(momentum=0.9)\n",
    "        self.leaky_relu1 = LeakyReLU(0.2)\n",
    "        self.dropout1 = Dropout(dropout)\n",
    "\n",
    "        self.conv2 = Conv2D(self.depth * 4, self.kernel_size, strides=(1,2), padding=\"same\")\n",
    "        self.batch2 = BatchNormalization(momentum=0.9)\n",
    "        self.leaky_relu2 = LeakyReLU(0.2)\n",
    "        self.dropout2 = Dropout(dropout)\n",
    "\n",
    "        self.conv3 = Conv2D(self.depth * 8, self.kernel_size, strides=(1,1), padding=\"same\")\n",
    "        self.batch3 = BatchNormalization(momentum=0.9)\n",
    "        self.leaky_relu3 = LeakyReLU(0.2)\n",
    "        self.dropout3 = Dropout(dropout)\n",
    "\n",
    "        self.conv4 = Conv2D(self.depth * 16, self.kernel_size, strides=(1,2), padding=\"same\")\n",
    "        self.batch4 = BatchNormalization(momentum=0.9)\n",
    "        self.leaky_relu4 = LeakyReLU(0.2)\n",
    "        self.dropout4 = Dropout(dropout)\n",
    "\n",
    "        self.conv5 = Conv2D(self.depth * 32, self.kernel_size, strides=(1,2), padding=\"same\")\n",
    "        self.batch5 = BatchNormalization(momentum=0.9)\n",
    "        self.leaky_relu5 = LeakyReLU(0.2)\n",
    "        self.dropout5 = Dropout(dropout)\n",
    "\n",
    "        self.conv6 = Conv2D(self.depth * 64, self.kernel_size, strides=(1,2), padding=\"same\")\n",
    "        self.batch6 = BatchNormalization(momentum=0.9)\n",
    "        self.leaky_relu6 = LeakyReLU(0.2)\n",
    "        self.dropout6 = Dropout(dropout)\n",
    "    \n",
    "        # Fully-connected layers\n",
    "        self.flatten1 = Flatten()\n",
    "        self.dense1 = Dense(self.dense_units)\n",
    "        self.batch7 = BatchNormalization(momentum=0.9)\n",
    "        self.leaky_relu7 = LeakyReLU(0.2)\n",
    "\n",
    "        self.dense2 = Dense(1, activation=\"sigmoid\")\n",
    "\n",
    "    def call(self, inputs):\n",
    "        x = tf.reshape(inputs, [-1, 2, 149, 1])\n",
    "\n",
    "        x = self.conv1(x)\n",
    "        x = self.batch1(x)\n",
    "        x = self.leaky_relu1(x)\n",
    "        x = self.dropout1(x)\n",
    "\n",
    "        x = self.conv2(x)\n",
    "        x = self.batch2(x)\n",
    "        x = self.leaky_relu2(x)\n",
    "        x = self.dropout2(x)\n",
    "\n",
    "        x = self.conv3(x)\n",
    "        x = self.batch3(x)\n",
    "        x = self.leaky_relu3(x)\n",
    "        x = self.dropout3(x)\n",
    "\n",
    "        x = self.conv4(x)\n",
    "        x = self.batch4(x)\n",
    "        x = self.leaky_relu4(x)\n",
    "        x = self.dropout4(x)\n",
    "\n",
    "        x = self.conv5(x)\n",
    "        x = self.batch5(x)\n",
    "        x = self.leaky_relu5(x)\n",
    "        x = self.dropout5(x)\n",
    "\n",
    "        x = self.conv6(x)\n",
    "        x = self.batch6(x)\n",
    "        x = self.leaky_relu6(x)\n",
    "        x = self.dropout6(x)\n",
    "\n",
    "        x = self.flatten1(x)\n",
    "        x = self.dense1(x)\n",
    "        x = self.batch7(x)\n",
    "        x = self.leaky_relu7(x)\n",
    "\n",
    "        prediction = self.dense2(x)\n",
    "\n",
    "        return prediction\n",
    "\n",
    "cst_discriminator = CSTDiscriminator()\n",
    "latent_vector = tf.random.normal([1, 2, 149, 1])\n",
    "output = cst_discriminator(latent_vector)\n",
    "# print(\"Output shape: \", coords.shape)\n",
    "float(output)"
   ]
  },
  {
   "cell_type": "code",
   "execution_count": 184,
   "metadata": {},
   "outputs": [
    {
     "data": {
      "application/vnd.plotly.v1+json": {
       "config": {
        "plotlyServerURL": "https://plot.ly"
       },
       "data": [
        {
         "line": {
          "color": "blue"
         },
         "mode": "lines+markers",
         "name": "NACA4412",
         "type": "scatter",
         "x": {
          "bdata": "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",
          "dtype": "f8"
         },
         "y": {
          "bdata": "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",
          "dtype": "f8"
         }
        },
        {
         "fill": "toself",
         "line": {
          "color": "green"
         },
         "mode": "lines+markers",
         "name": "Untitled",
         "type": "scatter",
         "x": {
          "bdata": "AACAP7j4fz/e4n8/eL5/P4iLfz8USn8/JPp+P8Cbfj/0Ln4/zLN9P1YqfT+gknw/vux7P8I4ez/Adno/zaZ5PwPJeD963Xc/TeR2P5jddT95yXQ/EKhzP315cj/jPXE/ZvVvPyygbj9bPm0/G9BrP5ZVaj/2zmg/ajxnPx6eZT9C9GM/Bj9iP5x+YD81s14/CN1cP0r8Wj8xEVk/9RtXP9AcVT/8E1M/sgFRPzDmTj+0wUw/e5RKP8ZeSD/UIEY/6dpDP0SNQT8oOD8/2ts8P6B4Oj+/Djg/fJ41PyAoMz/xqzA/OCouPz6jKz9NFyk/roYmP67xIz+WWCE/srseP08bHD+6dxk/PtEWPyooFD/KfBE/bs8OP2EgDD/zbwk/c74GPy0MBD9yWQE/Hk39Pqnn9z4eg/I+HCDtPkC/5z4oYeI+bgbdPq6v1z6FXdI+jxDNPmPJxz6diMI+2E69PqccuD6l8rI+aNGtPoa5qD6Sq6M+IKiePsGvmT4Jw5Q+hOKPPsAOiz5MSIY+tI+BPvrKeT5klHA+snxnPuyEXj4YrlU+NvlMPkZnRD5A+Ts+GLAzPsSMKz4ukCM+QLsbPtwOFD7iiww+LjMFPjAL/D3YB+499F3gPRQP0z2wHMY9UIi5PVhTrT0wf6E9MA2WPaT+ij3QVIA90CFsPThoWD0Qf0U9eGgzPZAmIj1AuxE9aCgCPbDf5jxgJss8ICixPNDnmDxAaII8AFhbPMBqNTwgDRM8AIboOwAgsjtA7oI7AOw1OwDw6DoAEIM6AAzpOQAQ6TgAAAAAABDpOAAM6TkAEIM6APDoOgDsNTtA7oI7ACCyOwCG6DsgDRM8wGo1PABYWzxAaII80OeYPCAosTxgJss8sN/mPGgoAj1AuxE9kCYiPXhoMz0Qf0U9OGhYPdAhbD3QVIA9pP6KPTANlj0wf6E9WFOtPVCIuT2wHMY9FA/TPfRd4D3YB+49MAv8PS4zBT7iiww+3A4UPkC7Gz4ukCM+xIwrPhiwMz5A+Ts+RmdEPjb5TD4YrlU+7IRePrJ8Zz5klHA++sp5PrSPgT5MSIY+wA6LPoTijz4Jw5Q+wa+ZPiConj6Sq6M+hrmoPmjRrT6l8rI+pxy4PthOvT6diMI+Y8nHPo8QzT6FXdI+rq/XPm4G3T4oYeI+QL/nPhwg7T4eg/I+qef3Ph5N/T5yWQE/LQwEP3O+Bj/zbwk/YSAMP27PDj/KfBE/KigUPz7RFj+6dxk/TxscP7K7Hj+WWCE/rvEjP66GJj9NFyk/PqMrPzgqLj/xqzA/ICgzP3yeNT+/Djg/oHg6P9rbPD8oOD8/RI1BP+naQz/UIEY/xl5IP3uUSj+0wUw/MOZOP7IBUT/8E1M/0BxVP/UbVz8xEVk/SvxaPwjdXD81s14/nH5gPwY/Yj9C9GM/Hp5lP2o8Zz/2zmg/llVqPxvQaz9bPm0/LKBuP2b1bz/jPXE/fXlyPxCocz95yXQ/mN11P03kdj963Xc/A8l4P82meT/Adno/wjh7P77sez+gknw/Vip9P8yzfT/0Ln4/wJt+PyT6fj8USn8/iIt/P3i+fz/e4n8/uPh/PwAAgD8=",
          "dtype": "f4"
         },
         "y": {
          "bdata": "AAAAABzDU7UWc1O2NCHtti7hUbepE6O3jEnptymNHbjC/ku4cbB/uIIqnLjYzrq4pZzbuI1s/rgkjBG5uL0kuae5OLlEcE25P9NiufDVeLmmtoe58keTuQcbn7nILKu53Xq3uZkDxLkExtC5tsHducL26rnEZfi50AcDutb6Cbq5DBG6Xz4YurWQH7q+BCe6XZsuundVNrrSMz66CDdGun1fTrpWrVa6gCBfunq4Z7pxdHC6R1N5urgpgbqJuYW6+VeKutgDj7rQu5O6fX6YumxKnbpCHqK6r/imuoXYq7rMvLC6yaS1ugmQurp0fr+6UXDEukhmybpzYc66UWPTuspt2Loqg926GabiuoXZ57qjIO26zn7yun7397ofjv26CqMBu0ORBLsokwe776kKu5HWDbuhGRG7cnMUu8rjF7sBahu74wQfu6qyIrvvcCa7kjwqu+0RLruU7DG7Ssc1u0ucObskZT27khpBu+60RLvlK0i703ZLu5uMTrvuY1G7XfNTu5YxVrtbFVi7z5VZu5mqWrvzS1u7DnNbu+cZW7vNO1q7JtVYu8XjVrvyZlS7W19Ru1TPTbubukm7nyZFuw4aQLsOnTq757g0uyt4Lrsj5ie7+A4hu07/GbsbxBK7jmoLu6P/A7svIPm6UVDqutum27o/Oc26IRu/uu1dsbrNEKS6XUCXuu/2irpNeH66kypounYKU7pHGT+6GlQsuiy0GrpMLwq6nXD1uaF+2LmjZL25xvqjuYAWjLloFWu59FBAubd/F7lWf+C4kVqUuACQE7gAAAAA3FYCuL88gbhrIr+4LuL5uDJQGLmeVDG5hrxHuQ1iW7muPWy5HGh6ufYNg7m72oe5PtmLuTtYj7lCtZK5+VqWuUa/mrnEYKC5asSnuX1ysbmt8725sc3NuXCA4bmZgvm5Xh8LuiwIHLq+oC+6HwRGuoxCX7qIYHu6XCuNunwInrqWN7C6caLDuvUs2LrEte26IQsCu8mRDbuOVxm7qEMluyE8MbtuJj27qedIuzJlVLv3hF+72S1quzJIdLv3vX27qT2Du0c3h7tPxIq7jd6NuzaBkLvsqJK7wFOUuzeBlbs1Mpa79WiWu+YolrujdpW7vVeUu8/Skrsa75C7gLSOu38rjLvfXIm7iFGGu54Sg7tKUn+79Tt4u2vzcLsgiWm7pgxiu2WMWru5FVO7o7RLu8RzRLttXD27anY2uynIL7uxVim7qyUju3w3HbtJjRe7JScSuxAEDbswIgi73n4Du6Et/rpizPW6lNHtujw05roT6966wOzXugkw0boFrMq6R1jEuvssvroEI7i6HDSyusxarLqHkqa6kteguiInm7oyf5W6jN6PuqJEirqOsYS69Ut+uuhFc7rhU2i6ZXldul66Urr/Gki6pZ89ustMM7rQJim6AzIfupRyFbqF7Au6n6MCugw387kwr+G5/7XQuVlRwLmnhrC57lqhub3Skrkw8oS5nnlvuWtrVrnivj657ncouXGZE7n9JAC5uTbcuOP3urhPipy4+uiAuP8bULj+4iO4Tiz6t5pHt7ee6323ISoit5ogtrY6tCG2VoUhtQAAAAA=",
          "dtype": "f4"
         }
        }
       ],
       "layout": {
        "template": {
         "data": {
          "bar": [
           {
            "error_x": {
             "color": "#2a3f5f"
            },
            "error_y": {
             "color": "#2a3f5f"
            },
            "marker": {
             "line": {
              "color": "#E5ECF6",
              "width": 0.5
             },
             "pattern": {
              "fillmode": "overlay",
              "size": 10,
              "solidity": 0.2
             }
            },
            "type": "bar"
           }
          ],
          "barpolar": [
           {
            "marker": {
             "line": {
              "color": "#E5ECF6",
              "width": 0.5
             },
             "pattern": {
              "fillmode": "overlay",
              "size": 10,
              "solidity": 0.2
             }
            },
            "type": "barpolar"
           }
          ],
          "carpet": [
           {
            "aaxis": {
             "endlinecolor": "#2a3f5f",
             "gridcolor": "white",
             "linecolor": "white",
             "minorgridcolor": "white",
             "startlinecolor": "#2a3f5f"
            },
            "baxis": {
             "endlinecolor": "#2a3f5f",
             "gridcolor": "white",
             "linecolor": "white",
             "minorgridcolor": "white",
             "startlinecolor": "#2a3f5f"
            },
            "type": "carpet"
           }
          ],
          "choropleth": [
           {
            "colorbar": {
             "outlinewidth": 0,
             "ticks": ""
            },
            "type": "choropleth"
           }
          ],
          "contour": [
           {
            "colorbar": {
             "outlinewidth": 0,
             "ticks": ""
            },
            "colorscale": [
             [
              0,
              "#0d0887"
             ],
             [
              0.1111111111111111,
              "#46039f"
             ],
             [
              0.2222222222222222,
              "#7201a8"
             ],
             [
              0.3333333333333333,
              "#9c179e"
             ],
             [
              0.4444444444444444,
              "#bd3786"
             ],
             [
              0.5555555555555556,
              "#d8576b"
             ],
             [
              0.6666666666666666,
              "#ed7953"
             ],
             [
              0.7777777777777778,
              "#fb9f3a"
             ],
             [
              0.8888888888888888,
              "#fdca26"
             ],
             [
              1,
              "#f0f921"
             ]
            ],
            "type": "contour"
           }
          ],
          "contourcarpet": [
           {
            "colorbar": {
             "outlinewidth": 0,
             "ticks": ""
            },
            "type": "contourcarpet"
           }
          ],
          "heatmap": [
           {
            "colorbar": {
             "outlinewidth": 0,
             "ticks": ""
            },
            "colorscale": [
             [
              0,
              "#0d0887"
             ],
             [
              0.1111111111111111,
              "#46039f"
             ],
             [
              0.2222222222222222,
              "#7201a8"
             ],
             [
              0.3333333333333333,
              "#9c179e"
             ],
             [
              0.4444444444444444,
              "#bd3786"
             ],
             [
              0.5555555555555556,
              "#d8576b"
             ],
             [
              0.6666666666666666,
              "#ed7953"
             ],
             [
              0.7777777777777778,
              "#fb9f3a"
             ],
             [
              0.8888888888888888,
              "#fdca26"
             ],
             [
              1,
              "#f0f921"
             ]
            ],
            "type": "heatmap"
           }
          ],
          "histogram": [
           {
            "marker": {
             "pattern": {
              "fillmode": "overlay",
              "size": 10,
              "solidity": 0.2
             }
            },
            "type": "histogram"
           }
          ],
          "histogram2d": [
           {
            "colorbar": {
             "outlinewidth": 0,
             "ticks": ""
            },
            "colorscale": [
             [
              0,
              "#0d0887"
             ],
             [
              0.1111111111111111,
              "#46039f"
             ],
             [
              0.2222222222222222,
              "#7201a8"
             ],
             [
              0.3333333333333333,
              "#9c179e"
             ],
             [
              0.4444444444444444,
              "#bd3786"
             ],
             [
              0.5555555555555556,
              "#d8576b"
             ],
             [
              0.6666666666666666,
              "#ed7953"
             ],
             [
              0.7777777777777778,
              "#fb9f3a"
             ],
             [
              0.8888888888888888,
              "#fdca26"
             ],
             [
              1,
              "#f0f921"
             ]
            ],
            "type": "histogram2d"
           }
          ],
          "histogram2dcontour": [
           {
            "colorbar": {
             "outlinewidth": 0,
             "ticks": ""
            },
            "colorscale": [
             [
              0,
              "#0d0887"
             ],
             [
              0.1111111111111111,
              "#46039f"
             ],
             [
              0.2222222222222222,
              "#7201a8"
             ],
             [
              0.3333333333333333,
              "#9c179e"
             ],
             [
              0.4444444444444444,
              "#bd3786"
             ],
             [
              0.5555555555555556,
              "#d8576b"
             ],
             [
              0.6666666666666666,
              "#ed7953"
             ],
             [
              0.7777777777777778,
              "#fb9f3a"
             ],
             [
              0.8888888888888888,
              "#fdca26"
             ],
             [
              1,
              "#f0f921"
             ]
            ],
            "type": "histogram2dcontour"
           }
          ],
          "mesh3d": [
           {
            "colorbar": {
             "outlinewidth": 0,
             "ticks": ""
            },
            "type": "mesh3d"
           }
          ],
          "parcoords": [
           {
            "line": {
             "colorbar": {
              "outlinewidth": 0,
              "ticks": ""
             }
            },
            "type": "parcoords"
           }
          ],
          "pie": [
           {
            "automargin": true,
            "type": "pie"
           }
          ],
          "scatter": [
           {
            "fillpattern": {
             "fillmode": "overlay",
             "size": 10,
             "solidity": 0.2
            },
            "type": "scatter"
           }
          ],
          "scatter3d": [
           {
            "line": {
             "colorbar": {
              "outlinewidth": 0,
              "ticks": ""
             }
            },
            "marker": {
             "colorbar": {
              "outlinewidth": 0,
              "ticks": ""
             }
            },
            "type": "scatter3d"
           }
          ],
          "scattercarpet": [
           {
            "marker": {
             "colorbar": {
              "outlinewidth": 0,
              "ticks": ""
             }
            },
            "type": "scattercarpet"
           }
          ],
          "scattergeo": [
           {
            "marker": {
             "colorbar": {
              "outlinewidth": 0,
              "ticks": ""
             }
            },
            "type": "scattergeo"
           }
          ],
          "scattergl": [
           {
            "marker": {
             "colorbar": {
              "outlinewidth": 0,
              "ticks": ""
             }
            },
            "type": "scattergl"
           }
          ],
          "scattermap": [
           {
            "marker": {
             "colorbar": {
              "outlinewidth": 0,
              "ticks": ""
             }
            },
            "type": "scattermap"
           }
          ],
          "scattermapbox": [
           {
            "marker": {
             "colorbar": {
              "outlinewidth": 0,
              "ticks": ""
             }
            },
            "type": "scattermapbox"
           }
          ],
          "scatterpolar": [
           {
            "marker": {
             "colorbar": {
              "outlinewidth": 0,
              "ticks": ""
             }
            },
            "type": "scatterpolar"
           }
          ],
          "scatterpolargl": [
           {
            "marker": {
             "colorbar": {
              "outlinewidth": 0,
              "ticks": ""
             }
            },
            "type": "scatterpolargl"
           }
          ],
          "scatterternary": [
           {
            "marker": {
             "colorbar": {
              "outlinewidth": 0,
              "ticks": ""
             }
            },
            "type": "scatterternary"
           }
          ],
          "surface": [
           {
            "colorbar": {
             "outlinewidth": 0,
             "ticks": ""
            },
            "colorscale": [
             [
              0,
              "#0d0887"
             ],
             [
              0.1111111111111111,
              "#46039f"
             ],
             [
              0.2222222222222222,
              "#7201a8"
             ],
             [
              0.3333333333333333,
              "#9c179e"
             ],
             [
              0.4444444444444444,
              "#bd3786"
             ],
             [
              0.5555555555555556,
              "#d8576b"
             ],
             [
              0.6666666666666666,
              "#ed7953"
             ],
             [
              0.7777777777777778,
              "#fb9f3a"
             ],
             [
              0.8888888888888888,
              "#fdca26"
             ],
             [
              1,
              "#f0f921"
             ]
            ],
            "type": "surface"
           }
          ],
          "table": [
           {
            "cells": {
             "fill": {
              "color": "#EBF0F8"
             },
             "line": {
              "color": "white"
             }
            },
            "header": {
             "fill": {
              "color": "#C8D4E3"
             },
             "line": {
              "color": "white"
             }
            },
            "type": "table"
           }
          ]
         },
         "layout": {
          "annotationdefaults": {
           "arrowcolor": "#2a3f5f",
           "arrowhead": 0,
           "arrowwidth": 1
          },
          "autotypenumbers": "strict",
          "coloraxis": {
           "colorbar": {
            "outlinewidth": 0,
            "ticks": ""
           }
          },
          "colorscale": {
           "diverging": [
            [
             0,
             "#8e0152"
            ],
            [
             0.1,
             "#c51b7d"
            ],
            [
             0.2,
             "#de77ae"
            ],
            [
             0.3,
             "#f1b6da"
            ],
            [
             0.4,
             "#fde0ef"
            ],
            [
             0.5,
             "#f7f7f7"
            ],
            [
             0.6,
             "#e6f5d0"
            ],
            [
             0.7,
             "#b8e186"
            ],
            [
             0.8,
             "#7fbc41"
            ],
            [
             0.9,
             "#4d9221"
            ],
            [
             1,
             "#276419"
            ]
           ],
           "sequential": [
            [
             0,
             "#0d0887"
            ],
            [
             0.1111111111111111,
             "#46039f"
            ],
            [
             0.2222222222222222,
             "#7201a8"
            ],
            [
             0.3333333333333333,
             "#9c179e"
            ],
            [
             0.4444444444444444,
             "#bd3786"
            ],
            [
             0.5555555555555556,
             "#d8576b"
            ],
            [
             0.6666666666666666,
             "#ed7953"
            ],
            [
             0.7777777777777778,
             "#fb9f3a"
            ],
            [
             0.8888888888888888,
             "#fdca26"
            ],
            [
             1,
             "#f0f921"
            ]
           ],
           "sequentialminus": [
            [
             0,
             "#0d0887"
            ],
            [
             0.1111111111111111,
             "#46039f"
            ],
            [
             0.2222222222222222,
             "#7201a8"
            ],
            [
             0.3333333333333333,
             "#9c179e"
            ],
            [
             0.4444444444444444,
             "#bd3786"
            ],
            [
             0.5555555555555556,
             "#d8576b"
            ],
            [
             0.6666666666666666,
             "#ed7953"
            ],
            [
             0.7777777777777778,
             "#fb9f3a"
            ],
            [
             0.8888888888888888,
             "#fdca26"
            ],
            [
             1,
             "#f0f921"
            ]
           ]
          },
          "colorway": [
           "#636efa",
           "#EF553B",
           "#00cc96",
           "#ab63fa",
           "#FFA15A",
           "#19d3f3",
           "#FF6692",
           "#B6E880",
           "#FF97FF",
           "#FECB52"
          ],
          "font": {
           "color": "#2a3f5f"
          },
          "geo": {
           "bgcolor": "white",
           "lakecolor": "white",
           "landcolor": "#E5ECF6",
           "showlakes": true,
           "showland": true,
           "subunitcolor": "white"
          },
          "hoverlabel": {
           "align": "left"
          },
          "hovermode": "closest",
          "mapbox": {
           "style": "light"
          },
          "paper_bgcolor": "white",
          "plot_bgcolor": "#E5ECF6",
          "polar": {
           "angularaxis": {
            "gridcolor": "white",
            "linecolor": "white",
            "ticks": ""
           },
           "bgcolor": "#E5ECF6",
           "radialaxis": {
            "gridcolor": "white",
            "linecolor": "white",
            "ticks": ""
           }
          },
          "scene": {
           "xaxis": {
            "backgroundcolor": "#E5ECF6",
            "gridcolor": "white",
            "gridwidth": 2,
            "linecolor": "white",
            "showbackground": true,
            "ticks": "",
            "zerolinecolor": "white"
           },
           "yaxis": {
            "backgroundcolor": "#E5ECF6",
            "gridcolor": "white",
            "gridwidth": 2,
            "linecolor": "white",
            "showbackground": true,
            "ticks": "",
            "zerolinecolor": "white"
           },
           "zaxis": {
            "backgroundcolor": "#E5ECF6",
            "gridcolor": "white",
            "gridwidth": 2,
            "linecolor": "white",
            "showbackground": true,
            "ticks": "",
            "zerolinecolor": "white"
           }
          },
          "shapedefaults": {
           "line": {
            "color": "#2a3f5f"
           }
          },
          "ternary": {
           "aaxis": {
            "gridcolor": "white",
            "linecolor": "white",
            "ticks": ""
           },
           "baxis": {
            "gridcolor": "white",
            "linecolor": "white",
            "ticks": ""
           },
           "bgcolor": "#E5ECF6",
           "caxis": {
            "gridcolor": "white",
            "linecolor": "white",
            "ticks": ""
           }
          },
          "title": {
           "x": 0.05
          },
          "xaxis": {
           "automargin": true,
           "gridcolor": "white",
           "linecolor": "white",
           "ticks": "",
           "title": {
            "standoff": 15
           },
           "zerolinecolor": "white",
           "zerolinewidth": 2
          },
          "yaxis": {
           "automargin": true,
           "gridcolor": "white",
           "linecolor": "white",
           "ticks": "",
           "title": {
            "standoff": 15
           },
           "zerolinecolor": "white",
           "zerolinewidth": 2
          }
         }
        },
        "title": {
         "text": "Untitled Airfoil"
        },
        "xaxis": {
         "title": {
          "text": "x/c"
         }
        },
        "yaxis": {
         "scaleanchor": "x",
         "scaleratio": 1,
         "title": {
          "text": "y/c"
         }
        }
       }
      }
     },
     "metadata": {},
     "output_type": "display_data"
    }
   ],
   "source": [
    "fig = go.Figure()\n",
    "airfoil = Airfoil(name=\"NACA4412\")\n",
    "airfoil.draw(show=False, fig=fig, fill=False)\n",
    "\n",
    "# Generate a random latent vector as input\n",
    "latent_vector = tf.random.normal([1, 128])\n",
    "output = cst_generator(latent_vector)\n",
    "\n",
    "generated_airfoil = Airfoil(coordinates=output)\n",
    "generated_airfoil.draw(fig=fig, color=\"green\")\n",
    "\n",
    "# random_kulfan = KulfanAirfoil(lower_weights=output[0][0], upper_weights=output[0][1], leading_edge_weight=0, TE_thickness=0, N1=0.5, N2=1)\n",
    "# random_kulfan.draw(fig=fig, show=True, fill=False, color=\"green\")"
   ]
  },
  {
   "cell_type": "code",
   "execution_count": null,
   "metadata": {},
   "outputs": [],
   "source": [
    "latent_vector = tf.random.normal([1, 128])\n",
    "output = model(latent_vector)\n",
    "print(output)"
   ]
  },
  {
   "cell_type": "code",
   "execution_count": 71,
   "metadata": {},
   "outputs": [],
   "source": [
    "kulfan = Airfoil(name=\"NACA0012\").to_kulfan_airfoil(n_weights_per_side=12)\n",
    "params = kulfan.kulfan_parameters"
   ]
  },
  {
   "cell_type": "code",
   "execution_count": null,
   "metadata": {},
   "outputs": [],
   "source": [
    "cstlayer = CSTLayer(12)\n",
    "coords = cstlayer(np.array([params[\"lower_weights\"], params[\"upper_weights\"]]))"
   ]
  },
  {
   "cell_type": "code",
   "execution_count": null,
   "metadata": {},
   "outputs": [],
   "source": [
    "import numpy as np\n",
    "from scipy.special import comb\n",
    "\n",
    "def generate_airfoil(N1, N2, lower_weights, upper_weights, leading_edge_weight, TE_thickness, n_points_per_side):\n",
    "    # Gerar pontos espaçados cosinicamente\n",
    "    x = (1 - np.cos(np.linspace(0, np.pi, n_points_per_side))) / 2  \n",
    "\n",
    "    # Função Classe\n",
    "    C = (x ** N1) * ((1 - x) ** N2)\n",
    "\n",
    "    def shape_function(w):\n",
    "        # Função de forma (polinômios de Bernstein)\n",
    "        N = len(w) - 1  # Ordem dos polinômios\n",
    "\n",
    "        K = comb(N, np.arange(N + 1))  # Coeficientes binomiais de Bernstein\n",
    "\n",
    "        dims = (len(w), len(x))\n",
    "\n",
    "        def wide(vector):\n",
    "            return np.tile(np.reshape(vector, (1, dims[1])), (dims[0], 1))\n",
    "\n",
    "        def tall(vector):\n",
    "            return np.tile(np.reshape(vector, (dims[0], 1)), (1, dims[1]))\n",
    "\n",
    "        S_matrix = (\n",
    "            tall(K)\n",
    "            * wide(x) ** tall(np.arange(N + 1))\n",
    "            * wide(1 - x) ** tall(N - np.arange(N + 1))\n",
    "        )  # Polinômios de Bernstein multiplicados pelos pesos\n",
    "\n",
    "        S_x = np.sum(tall(w) * S_matrix, axis=0)\n",
    "\n",
    "        # Calcular a saída y\n",
    "        y = C * S_x\n",
    "        return y\n",
    "\n",
    "    y_lower = shape_function(lower_weights)\n",
    "    y_upper = shape_function(upper_weights)\n",
    "\n",
    "    # Espessura do bordo de fuga (TE thickness)\n",
    "    y_lower -= x * TE_thickness / 2\n",
    "    y_upper += x * TE_thickness / 2\n",
    "\n",
    "    # Modificação do bordo de ataque (LEM)\n",
    "    y_lower += leading_edge_weight * x * (1 - x) ** (len(lower_weights) + 0.5)\n",
    "    y_upper += leading_edge_weight * x * (1 - x) ** (len(upper_weights) + 0.5)\n",
    "\n",
    "    # Criar coordenadas do aerofólio\n",
    "    x = np.concatenate((x[::-1], x[1:]))\n",
    "    y = np.concatenate((y_upper[::-1], y_lower[1:]))\n",
    "    coordinates = np.stack((x, y), axis=1)\n",
    "\n",
    "    return coordinates\n",
    "\n",
    "generate_airfoil(0.5, 1, )"
   ]
  }
 ],
 "metadata": {
  "kernelspec": {
   "display_name": ".venv",
   "language": "python",
   "name": "python3"
  },
  "language_info": {
   "codemirror_mode": {
    "name": "ipython",
    "version": 3
   },
   "file_extension": ".py",
   "mimetype": "text/x-python",
   "name": "python",
   "nbconvert_exporter": "python",
   "pygments_lexer": "ipython3",
   "version": "3.11.9"
  }
 },
 "nbformat": 4,
 "nbformat_minor": 2
}
