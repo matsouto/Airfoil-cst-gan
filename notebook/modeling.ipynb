{
 "cells": [
  {
   "cell_type": "code",
   "execution_count": 32,
   "metadata": {},
   "outputs": [
    {
     "name": "stdout",
     "output_type": "stream",
     "text": [
      "The autoreload extension is already loaded. To reload it, use:\n",
      "  %reload_ext autoreload\n"
     ]
    }
   ],
   "source": [
    "%load_ext autoreload\n",
    "%autoreload 2\n",
    "\n",
    "import os\n",
    "import sys\n",
    "\n",
    "# Build an absolute path from this notebook's parent directory\n",
    "module_path = os.path.abspath(\"../\")\n",
    "\n",
    "# Add to sys.path if not already present\n",
    "if module_path not in sys.path:\n",
    "    sys.path.append(module_path)\n",
    "\n",
    "import numpy as np\n",
    "\n",
    "import tensorflow as tf\n",
    "from tensorflow.keras.layers import Input, Dense, BatchNormalization, LeakyReLU, Conv2DTranspose, Conv2D, Reshape\n",
    "from tensorflow.keras.activations import tanh\n",
    "\n",
    "from aerosandbox import Airfoil, KulfanAirfoil\n",
    "from src import airfoil_modifications\n",
    "\n",
    "import plotly.graph_objects as go"
   ]
  },
  {
   "cell_type": "code",
   "execution_count": 33,
   "metadata": {},
   "outputs": [
    {
     "name": "stderr",
     "output_type": "stream",
     "text": [
      "/home/matsouto/Code/Py/airfoil_cst_gan/.venv/lib64/python3.11/site-packages/keras/src/layers/core/dense.py:87: UserWarning:\n",
      "\n",
      "Do not pass an `input_shape`/`input_dim` argument to a layer. When using Sequential models, prefer using an `Input(shape)` object as the first layer in the model instead.\n",
      "\n"
     ]
    }
   ],
   "source": [
    "class CSTGenerator(tf.keras.Model):\n",
    "    '''\n",
    "    * Refs: \n",
    "        - Lin, Jinxing & Zhang, Chenliang & Xie, Xiaoye & Shi, Xingyu & Xu, Xiaoyu & Duan, Yanhui. (2022). CST-GANs: A Generative Adversarial Network Based on CST Parameterization for the Generation of Smooth Airfoils. 600-605. 10.1109/ICUS55513.2022.9987080. \n",
    "    '''\n",
    "    def __init__(self, npv: int = 12, latent_dim: int = 128, kernel_size: tuple = (2,4)):\n",
    "        super().__init__()\n",
    "\n",
    "        '''\n",
    "        * npv: Number of parameterized variables\n",
    "        * latent_dim: Dimension of input vector (latent vector)\n",
    "        '''\n",
    "\n",
    "        self.npv = npv\n",
    "        self.latent_dim = latent_dim\n",
    "        self.kernel_size = kernel_size\n",
    "\n",
    "        # Fully connected layers\n",
    "        self.dense1 = Dense(256 * 2 * self.npv, activation=LeakyReLU(0.2), input_shape=(self.latent_dim,))\n",
    "        self.reshape = Reshape((2, self.npv, 256))\n",
    "\n",
    "        # Transposed convolutions\n",
    "        self.deconv1 = Conv2DTranspose(128, self.kernel_size, strides=(1,2), padding='same', activation=LeakyReLU(0.2))\n",
    "        self.deconv2 = Conv2DTranspose(64, self.kernel_size, strides=(1,2), padding='same', activation=LeakyReLU(0.2))\n",
    "        self.deconv3 = Conv2DTranspose(32, self.kernel_size, strides=(1,2), padding='same', activation=LeakyReLU(0.2))\n",
    "\n",
    "        # Convolutional layers\n",
    "        self.conv1 = Conv2D(16, self.kernel_size, strides=(1,2), padding=\"same\", activation=LeakyReLU(0.2))\n",
    "        self.conv2 = Conv2D(8, self.kernel_size, strides=(1,2), padding=\"same\", activation=LeakyReLU(0.2))\n",
    "        self.conv3 = Conv2D(1, self.kernel_size, strides=(1,2), padding=\"same\", activation=tanh)\n",
    "\n",
    "        # Output layers\n",
    "        self.final_reshape = Reshape((2, self.npv))\n",
    "\n",
    "    def call(self, inputs):\n",
    "        x = self.dense1(inputs)\n",
    "        x = self.reshape(x)\n",
    "        x = self.deconv1(x)\n",
    "        x = self.deconv2(x)\n",
    "        x = self.deconv3(x)\n",
    "        x = self.conv1(x)\n",
    "        x = self.conv2(x)\n",
    "        x = self.conv3(x)\n",
    "        x = self.final_reshape(x)\n",
    "        return x\n",
    "\n",
    "model = CSTGenerator(kernel_size=(2,4))"
   ]
  },
  {
   "cell_type": "code",
   "execution_count": 51,
   "metadata": {},
   "outputs": [
    {
     "name": "stdout",
     "output_type": "stream",
     "text": [
      "tf.Tensor(\n",
      "[[[ 0.00703943 -0.00124994  0.00339497 -0.01190137  0.0059666\n",
      "    0.00038682 -0.00848021 -0.00562707  0.00282079  0.00070263\n",
      "    0.00569891 -0.00513325]\n",
      "  [ 0.0009889  -0.00096795 -0.00214469 -0.00055222 -0.00731401\n",
      "   -0.00326171  0.00188826 -0.00126161 -0.00622083  0.00137599\n",
      "   -0.00690443  0.00297293]]], shape=(1, 2, 12), dtype=float32)\n"
     ]
    },
    {
     "data": {
      "application/vnd.plotly.v1+json": {
       "config": {
        "plotlyServerURL": "https://plot.ly"
       },
       "data": [
        {
         "line": {
          "color": "blue"
         },
         "mode": "lines+markers",
         "name": "NACA4412",
         "type": "scatter",
         "x": {
          "bdata": "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",
          "dtype": "f8"
         },
         "y": {
          "bdata": "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",
          "dtype": "f8"
         }
        },
        {
         "line": {
          "color": "green"
         },
         "mode": "lines",
         "name": "Untitled",
         "type": "scatter",
         "x": {
          "bdata": "AAAAAAAA8D+L2yBWff/vPxeN2WD1/e8/POkrOWj77z/T4cMI1vfvP07d9Ak/8+8/Hf61h6Pt7z9IWp3dA+fvP4gj2ndg3+8/VcAt07nW7z9E1uN8EM3vP0BGyRJlwu8/NRsiQ7i27z/Ja57MCqrvP94vTn5dnO8/nAqUN7GN7z/yCRfoBn7vP1Fcs49fbe8/u/1pPrxb7z8oXU8UHknvP077eEGGNe8/EgTqBfYg7z/C436xbgvvP4LZ16Px9O4/MIhCTIDd7j9Dh6IpHMXuPxX1WMrGq+4/LwwrzIGR7j8tvSfcTnbuP/1OjLYvWu4/GgeoJiY97j+y274GNB/uP3cx6z9bAO4/Kqf+yZ3g7T+98GGr/b/tPyrE8/h8nu0/J9rm1R187T/EBJ9z4ljtP0JejRHNNO0/cJIL/d8P7T/WRDaRHersPxyWxjaIw+w/IsvqYyKc7D9MGB6c7nPsP5CT/2/vSuw/5k8ofSch7D/FpABumfbrP2yklPlHy+s/tsNn4zWf6z9Qtkf7ZXLrPzyCHh3bROs/e83DMJgW6z/qaM0poOfqP1sbXwf2t+o/5K/505yH6j+mSkmll1bqPx0H85vpJOo/PeNh45Xy6T+d+pKxn7/pP/AU4UYKjOk/PovP7dhX6T8wh9T6DiPpP8qfIsyv7eg/RNdxyb636D9G/cdjP4HoPzJ5QBU1Sug/FIDTYKMS6D/YuRzSjdrnP1hZIf33oec/DKsVfuVo5z8WHiL5WS/nP1/LJxpZ9eY/jX6ElOa65j/LRNYiBoDmPwSFvoa7ROY/q6WkiAoJ5j/RQ3j39szlP5b/cqiEkOU/2OHZdrdT5T84X75DkxblP1L8vvUb2eQ/YZfHeFWb5D9BW9G9Q13kP+hforrqHuQ/hPyMaU7g4z9Ezy7JcqHjPwV/L9xbYuM/Czv/qA0j4z/j/JQ5jOPiP7WQLJvbo+I/NGgE3v9j4j9YPBsV/SPiPzSC7VXX4+E/FrcyuJKj4T86iJpVM2PhP1XaiUm9IuE/NrXXsDTi4D/KF4qpnaHgP9G4klL8YOA/griLy1Qg4D/4juhoVr/fP16O2loHPt8/bNDrrMS83j+TlVCeljveP1JL7GyFut0/ie/KVJk53T/SkZqP2rjcP5b7JFRRONw/TofJ1QW42z+WL/dDADjbP5PepslIuNo/OgbWjOc42j/piQGu5LnZP/QBoUdIO9k/eGGibRq92D/1BuYsYz/YPy1Au4oqwtc/fUldhHhF1z880XAOVcnWP1wHghTITdY/kEGDeNnS1T9MPEwSkVjVP9QAGq/23tQ/XHgPERJm1D+otLbu6u3TP/b1gvKIdtM/aHZTuvP/0j/kAvfWMorSP0BpsMtNFdI/zsO7DUyh0T/oqdQDNS7RP09NvQUQvNA/UIzGW+RK0D+u/7F8crXPPzYb/qor184/5ArgcAL7zT/mojjaBCHNP9aAdc9AScw/QOOtFMRzyz/+0sFInKDKP0Kse+TWz8k/ihW0OYEByT8Kc3hyqDXIP4rjM5BZbMc/YtXaaqGlxj9sQBmwjOHFP4ySg+InIMU/VFzKWH9hxD8SyvA8n6XDPxD3hYuT7MI/vibhEmg2wj8m8WByKIPBP1BurRng0sA/6mz9R5olwD/QgL0WxPa+P3hjA4CEqL0/lD0PH4tgvD/spqng7B67PxxPy0m+47k/VNlNdhOvuD+AbKMXAIG3P/ANlXOXWbY/4NkHY+w4tT+8LslQER+0P6zeYTgYDLM/GHrwpBIAsj+kxgqwEfuwP4joTAFM+q8/4EQSlL8Mrj9gjn+VnS2sPzAQO5cEXao/IC2EPRKbqD8QPU894+emP6CucFqTQ6U/yIvXZT2uoz/4fNc7+yeiP+BngsLlsKA/oIcj0CmSnj+gfb9CP+GbPzCW4NA3T5k/8FoUdj3clj+QSMAyeIiUP+B1lAkOVJI/oMEe/SI/kD/gWP0aspOMP6AIdGyg6Ig/oA1l2Ex9hT/AMnk371GCP0DgXJt2zX4/QN4UjsF3eT+A1R9pFqN0PwA87hLET3A/ALilYiL8aD+A4gFKeFxiPwBlRRbsgVk/AFo8eO5TUD8ADltQG19CPwBIlzP5VDA/AKCO5DtVED8AAAAAAAAAAACgjuQ7VRA/AEiXM/lUMD8ADltQG19CPwBaPHjuU1A/AGVFFuyBWT8A4wFKeFxiPwC4pWIi/Gg/ADzuEsRPcD+A1R9pFqN0P0DeFI7Bd3k/QOBcm3bNfj/AMnk371GCP8ANZdhMfYU/oAh0bKDoiD/gWP0aspOMP7DBHv0iP5A/4HWUCQ5Ukj+gSMAyeIiUPwBbFHY93JY/MJbg0DdPmT+wfb9CP+GbP7CHI9Apkp4/4GeCwuWwoD/4fNc7+yeiP9CL12U9rqM/sK5wWpNDpT8QPU894+emPzAthD0Sm6g/MBA7lwRdqj9gjn+VnS2sP+hEEpS/DK4/kOhMAUz6rz+sxgqwEfuwPxh68KQSALI/rN5hOBgMsz/ILslQER+0P+TZB2PsOLU/9A2Vc5dZtj+EbKMXAIG3P1TZTXYTr7g/IE/LSb7juT/wpqng7B67P6Q9Dx+LYLw/fGMDgISovT/UgL0WxPa+P+xs/UeaJcA/Um6tGeDSwD8o8WByKIPBP8Am4RJoNsI/EveFi5Pswj8UyvA8n6XDP1Zcylh/YcQ/lJKD4icgxT9uQBmwjOHFP2rV2mqhpcY/jOMzkFlsxz8Mc3hyqDXIP4wVtDmBAck/Qqx75NbPyT8G08FInKDKP0LjrRTEc8s/2IB1z0BJzD/uojjaBCHNP+YK4HAC+80/OBv+qivXzj+w/7F8crXPP1CMxlvkStA/UE29BRC80D/oqdQDNS7RP9TDuw1ModE/Qmmwy00V0j/mAvfWMorSP2p2U7rz/9I/9/WC8oh20z+qtLbu6u3TP154DxESZtQ/1QAar/be1D9QPEwSkVjVP5BBg3jZ0tU/XQeCFMhN1j8+0XAOVcnWP35JXYR4Rdc/MEC7iirC1z/4BuYsYz/YP3hhom0avdg/9QGhR0g72T/qiQGu5LnZPzsG1oznONo/lt6myUi42j+YL/dDADjbP0+HydUFuNs/l/skVFE43D/TkZqP2rjcP4zvylSZOd0/VUvsbIW63T+UlVCeljveP23Q66zEvN4/X47aWgc+3z/7juhoVr/fP4S4i8tUIOA/0biSUvxg4D/KF4qpnaHgPza117A04uA/V9qJSb0i4T88iJpVM2PhPxe3MriSo+E/NYLtVdfj4T9ZPBsV/SPiPzVoBN7/Y+I/tpAsm9uj4j/j/JQ5jOPiPww7/6gNI+M/Bn8v3Fti4z9Ezy7JcqHjP4b8jGlO4OM/6l+iuuoe5D9CW9G9Q13kP2KXx3hVm+Q/Uvy+9RvZ5D84X75DkxblP9rh2Xa3U+U/lv9yqISQ5T/SQ3j39szlP6ylpIgKCeY/BYW+hrtE5j/MRNYiBoDmP45+hJTmuuY/YMsnGln15j8ZHiL5WS/nPwyrFX7laOc/WFkh/feh5z/YuRzSjdrnPxSA02CjEug/MnlAFTVK6D9H/cdjP4HoP0bXccm+t+g/yp8izK/t6D8wh9T6DiPpP0CLz+3YV+k/8BThRgqM6T+e+pKxn7/pPz7jYeOV8uk/Hgfzm+kk6j+oSkmll1bqP+Wv+dOch+o/XRtfB/a36j/raM0poOfqP3zNwzCYFus/PIIeHdtE6z9Qtkf7ZXLrP7bDZ+M1n+s/bKSU+UfL6z/GpABumfbrP+ZPKH0nIew/kZP/b+9K7D9OGB6c7nPsPyLL6mMinOw/HJbGNojD7D/WRDaRHersP3CSC/3fD+0/Ql6NEc007T/EBJ9z4ljtPyja5tUdfO0/KsTz+Hye7T+98GGr/b/tPyyn/smd4O0/eDHrP1sA7j+y274GNB/uPxoHqCYmPe4//U6Mti9a7j8uvSfcTnbuPy8MK8yBke4/FvVYysar7j9Eh6IpHMXuPzCIQkyA3e4/gtnXo/H07j/D436xbgvvPxME6gX2IO8/Tvt4QYY17z8oXU8UHknvP7z9aT68W+8/UVyzj19t7z/zCRfoBn7vP5wKlDexje8/3i9Ofl2c7z/Ka57MCqrvPzUbIkO4tu8/QEbJEmXC7z9E1uN8EM3vP1XALdO51u8/iCPad2Df7z9IWp3dA+fvPx7+tYej7e8/Tt30CT/z7z/T4cMI1vfvPzzpKzlo++8/F43ZYPX97z+L2yBWff/vPwAAAAAAAPA/",
          "dtype": "f8"
         },
         "y": {
          "bdata": "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",
          "dtype": "f8"
         }
        }
       ],
       "layout": {
        "template": {
         "data": {
          "bar": [
           {
            "error_x": {
             "color": "#2a3f5f"
            },
            "error_y": {
             "color": "#2a3f5f"
            },
            "marker": {
             "line": {
              "color": "#E5ECF6",
              "width": 0.5
             },
             "pattern": {
              "fillmode": "overlay",
              "size": 10,
              "solidity": 0.2
             }
            },
            "type": "bar"
           }
          ],
          "barpolar": [
           {
            "marker": {
             "line": {
              "color": "#E5ECF6",
              "width": 0.5
             },
             "pattern": {
              "fillmode": "overlay",
              "size": 10,
              "solidity": 0.2
             }
            },
            "type": "barpolar"
           }
          ],
          "carpet": [
           {
            "aaxis": {
             "endlinecolor": "#2a3f5f",
             "gridcolor": "white",
             "linecolor": "white",
             "minorgridcolor": "white",
             "startlinecolor": "#2a3f5f"
            },
            "baxis": {
             "endlinecolor": "#2a3f5f",
             "gridcolor": "white",
             "linecolor": "white",
             "minorgridcolor": "white",
             "startlinecolor": "#2a3f5f"
            },
            "type": "carpet"
           }
          ],
          "choropleth": [
           {
            "colorbar": {
             "outlinewidth": 0,
             "ticks": ""
            },
            "type": "choropleth"
           }
          ],
          "contour": [
           {
            "colorbar": {
             "outlinewidth": 0,
             "ticks": ""
            },
            "colorscale": [
             [
              0,
              "#0d0887"
             ],
             [
              0.1111111111111111,
              "#46039f"
             ],
             [
              0.2222222222222222,
              "#7201a8"
             ],
             [
              0.3333333333333333,
              "#9c179e"
             ],
             [
              0.4444444444444444,
              "#bd3786"
             ],
             [
              0.5555555555555556,
              "#d8576b"
             ],
             [
              0.6666666666666666,
              "#ed7953"
             ],
             [
              0.7777777777777778,
              "#fb9f3a"
             ],
             [
              0.8888888888888888,
              "#fdca26"
             ],
             [
              1,
              "#f0f921"
             ]
            ],
            "type": "contour"
           }
          ],
          "contourcarpet": [
           {
            "colorbar": {
             "outlinewidth": 0,
             "ticks": ""
            },
            "type": "contourcarpet"
           }
          ],
          "heatmap": [
           {
            "colorbar": {
             "outlinewidth": 0,
             "ticks": ""
            },
            "colorscale": [
             [
              0,
              "#0d0887"
             ],
             [
              0.1111111111111111,
              "#46039f"
             ],
             [
              0.2222222222222222,
              "#7201a8"
             ],
             [
              0.3333333333333333,
              "#9c179e"
             ],
             [
              0.4444444444444444,
              "#bd3786"
             ],
             [
              0.5555555555555556,
              "#d8576b"
             ],
             [
              0.6666666666666666,
              "#ed7953"
             ],
             [
              0.7777777777777778,
              "#fb9f3a"
             ],
             [
              0.8888888888888888,
              "#fdca26"
             ],
             [
              1,
              "#f0f921"
             ]
            ],
            "type": "heatmap"
           }
          ],
          "histogram": [
           {
            "marker": {
             "pattern": {
              "fillmode": "overlay",
              "size": 10,
              "solidity": 0.2
             }
            },
            "type": "histogram"
           }
          ],
          "histogram2d": [
           {
            "colorbar": {
             "outlinewidth": 0,
             "ticks": ""
            },
            "colorscale": [
             [
              0,
              "#0d0887"
             ],
             [
              0.1111111111111111,
              "#46039f"
             ],
             [
              0.2222222222222222,
              "#7201a8"
             ],
             [
              0.3333333333333333,
              "#9c179e"
             ],
             [
              0.4444444444444444,
              "#bd3786"
             ],
             [
              0.5555555555555556,
              "#d8576b"
             ],
             [
              0.6666666666666666,
              "#ed7953"
             ],
             [
              0.7777777777777778,
              "#fb9f3a"
             ],
             [
              0.8888888888888888,
              "#fdca26"
             ],
             [
              1,
              "#f0f921"
             ]
            ],
            "type": "histogram2d"
           }
          ],
          "histogram2dcontour": [
           {
            "colorbar": {
             "outlinewidth": 0,
             "ticks": ""
            },
            "colorscale": [
             [
              0,
              "#0d0887"
             ],
             [
              0.1111111111111111,
              "#46039f"
             ],
             [
              0.2222222222222222,
              "#7201a8"
             ],
             [
              0.3333333333333333,
              "#9c179e"
             ],
             [
              0.4444444444444444,
              "#bd3786"
             ],
             [
              0.5555555555555556,
              "#d8576b"
             ],
             [
              0.6666666666666666,
              "#ed7953"
             ],
             [
              0.7777777777777778,
              "#fb9f3a"
             ],
             [
              0.8888888888888888,
              "#fdca26"
             ],
             [
              1,
              "#f0f921"
             ]
            ],
            "type": "histogram2dcontour"
           }
          ],
          "mesh3d": [
           {
            "colorbar": {
             "outlinewidth": 0,
             "ticks": ""
            },
            "type": "mesh3d"
           }
          ],
          "parcoords": [
           {
            "line": {
             "colorbar": {
              "outlinewidth": 0,
              "ticks": ""
             }
            },
            "type": "parcoords"
           }
          ],
          "pie": [
           {
            "automargin": true,
            "type": "pie"
           }
          ],
          "scatter": [
           {
            "fillpattern": {
             "fillmode": "overlay",
             "size": 10,
             "solidity": 0.2
            },
            "type": "scatter"
           }
          ],
          "scatter3d": [
           {
            "line": {
             "colorbar": {
              "outlinewidth": 0,
              "ticks": ""
             }
            },
            "marker": {
             "colorbar": {
              "outlinewidth": 0,
              "ticks": ""
             }
            },
            "type": "scatter3d"
           }
          ],
          "scattercarpet": [
           {
            "marker": {
             "colorbar": {
              "outlinewidth": 0,
              "ticks": ""
             }
            },
            "type": "scattercarpet"
           }
          ],
          "scattergeo": [
           {
            "marker": {
             "colorbar": {
              "outlinewidth": 0,
              "ticks": ""
             }
            },
            "type": "scattergeo"
           }
          ],
          "scattergl": [
           {
            "marker": {
             "colorbar": {
              "outlinewidth": 0,
              "ticks": ""
             }
            },
            "type": "scattergl"
           }
          ],
          "scattermap": [
           {
            "marker": {
             "colorbar": {
              "outlinewidth": 0,
              "ticks": ""
             }
            },
            "type": "scattermap"
           }
          ],
          "scattermapbox": [
           {
            "marker": {
             "colorbar": {
              "outlinewidth": 0,
              "ticks": ""
             }
            },
            "type": "scattermapbox"
           }
          ],
          "scatterpolar": [
           {
            "marker": {
             "colorbar": {
              "outlinewidth": 0,
              "ticks": ""
             }
            },
            "type": "scatterpolar"
           }
          ],
          "scatterpolargl": [
           {
            "marker": {
             "colorbar": {
              "outlinewidth": 0,
              "ticks": ""
             }
            },
            "type": "scatterpolargl"
           }
          ],
          "scatterternary": [
           {
            "marker": {
             "colorbar": {
              "outlinewidth": 0,
              "ticks": ""
             }
            },
            "type": "scatterternary"
           }
          ],
          "surface": [
           {
            "colorbar": {
             "outlinewidth": 0,
             "ticks": ""
            },
            "colorscale": [
             [
              0,
              "#0d0887"
             ],
             [
              0.1111111111111111,
              "#46039f"
             ],
             [
              0.2222222222222222,
              "#7201a8"
             ],
             [
              0.3333333333333333,
              "#9c179e"
             ],
             [
              0.4444444444444444,
              "#bd3786"
             ],
             [
              0.5555555555555556,
              "#d8576b"
             ],
             [
              0.6666666666666666,
              "#ed7953"
             ],
             [
              0.7777777777777778,
              "#fb9f3a"
             ],
             [
              0.8888888888888888,
              "#fdca26"
             ],
             [
              1,
              "#f0f921"
             ]
            ],
            "type": "surface"
           }
          ],
          "table": [
           {
            "cells": {
             "fill": {
              "color": "#EBF0F8"
             },
             "line": {
              "color": "white"
             }
            },
            "header": {
             "fill": {
              "color": "#C8D4E3"
             },
             "line": {
              "color": "white"
             }
            },
            "type": "table"
           }
          ]
         },
         "layout": {
          "annotationdefaults": {
           "arrowcolor": "#2a3f5f",
           "arrowhead": 0,
           "arrowwidth": 1
          },
          "autotypenumbers": "strict",
          "coloraxis": {
           "colorbar": {
            "outlinewidth": 0,
            "ticks": ""
           }
          },
          "colorscale": {
           "diverging": [
            [
             0,
             "#8e0152"
            ],
            [
             0.1,
             "#c51b7d"
            ],
            [
             0.2,
             "#de77ae"
            ],
            [
             0.3,
             "#f1b6da"
            ],
            [
             0.4,
             "#fde0ef"
            ],
            [
             0.5,
             "#f7f7f7"
            ],
            [
             0.6,
             "#e6f5d0"
            ],
            [
             0.7,
             "#b8e186"
            ],
            [
             0.8,
             "#7fbc41"
            ],
            [
             0.9,
             "#4d9221"
            ],
            [
             1,
             "#276419"
            ]
           ],
           "sequential": [
            [
             0,
             "#0d0887"
            ],
            [
             0.1111111111111111,
             "#46039f"
            ],
            [
             0.2222222222222222,
             "#7201a8"
            ],
            [
             0.3333333333333333,
             "#9c179e"
            ],
            [
             0.4444444444444444,
             "#bd3786"
            ],
            [
             0.5555555555555556,
             "#d8576b"
            ],
            [
             0.6666666666666666,
             "#ed7953"
            ],
            [
             0.7777777777777778,
             "#fb9f3a"
            ],
            [
             0.8888888888888888,
             "#fdca26"
            ],
            [
             1,
             "#f0f921"
            ]
           ],
           "sequentialminus": [
            [
             0,
             "#0d0887"
            ],
            [
             0.1111111111111111,
             "#46039f"
            ],
            [
             0.2222222222222222,
             "#7201a8"
            ],
            [
             0.3333333333333333,
             "#9c179e"
            ],
            [
             0.4444444444444444,
             "#bd3786"
            ],
            [
             0.5555555555555556,
             "#d8576b"
            ],
            [
             0.6666666666666666,
             "#ed7953"
            ],
            [
             0.7777777777777778,
             "#fb9f3a"
            ],
            [
             0.8888888888888888,
             "#fdca26"
            ],
            [
             1,
             "#f0f921"
            ]
           ]
          },
          "colorway": [
           "#636efa",
           "#EF553B",
           "#00cc96",
           "#ab63fa",
           "#FFA15A",
           "#19d3f3",
           "#FF6692",
           "#B6E880",
           "#FF97FF",
           "#FECB52"
          ],
          "font": {
           "color": "#2a3f5f"
          },
          "geo": {
           "bgcolor": "white",
           "lakecolor": "white",
           "landcolor": "#E5ECF6",
           "showlakes": true,
           "showland": true,
           "subunitcolor": "white"
          },
          "hoverlabel": {
           "align": "left"
          },
          "hovermode": "closest",
          "mapbox": {
           "style": "light"
          },
          "paper_bgcolor": "white",
          "plot_bgcolor": "#E5ECF6",
          "polar": {
           "angularaxis": {
            "gridcolor": "white",
            "linecolor": "white",
            "ticks": ""
           },
           "bgcolor": "#E5ECF6",
           "radialaxis": {
            "gridcolor": "white",
            "linecolor": "white",
            "ticks": ""
           }
          },
          "scene": {
           "xaxis": {
            "backgroundcolor": "#E5ECF6",
            "gridcolor": "white",
            "gridwidth": 2,
            "linecolor": "white",
            "showbackground": true,
            "ticks": "",
            "zerolinecolor": "white"
           },
           "yaxis": {
            "backgroundcolor": "#E5ECF6",
            "gridcolor": "white",
            "gridwidth": 2,
            "linecolor": "white",
            "showbackground": true,
            "ticks": "",
            "zerolinecolor": "white"
           },
           "zaxis": {
            "backgroundcolor": "#E5ECF6",
            "gridcolor": "white",
            "gridwidth": 2,
            "linecolor": "white",
            "showbackground": true,
            "ticks": "",
            "zerolinecolor": "white"
           }
          },
          "shapedefaults": {
           "line": {
            "color": "#2a3f5f"
           }
          },
          "ternary": {
           "aaxis": {
            "gridcolor": "white",
            "linecolor": "white",
            "ticks": ""
           },
           "baxis": {
            "gridcolor": "white",
            "linecolor": "white",
            "ticks": ""
           },
           "bgcolor": "#E5ECF6",
           "caxis": {
            "gridcolor": "white",
            "linecolor": "white",
            "ticks": ""
           }
          },
          "title": {
           "x": 0.05
          },
          "xaxis": {
           "automargin": true,
           "gridcolor": "white",
           "linecolor": "white",
           "ticks": "",
           "title": {
            "standoff": 15
           },
           "zerolinecolor": "white",
           "zerolinewidth": 2
          },
          "yaxis": {
           "automargin": true,
           "gridcolor": "white",
           "linecolor": "white",
           "ticks": "",
           "title": {
            "standoff": 15
           },
           "zerolinecolor": "white",
           "zerolinewidth": 2
          }
         }
        },
        "title": {
         "text": "Untitled Airfoil"
        },
        "xaxis": {
         "title": {
          "text": "x/c"
         }
        },
        "yaxis": {
         "scaleanchor": "x",
         "scaleratio": 1,
         "title": {
          "text": "y/c"
         }
        }
       }
      }
     },
     "metadata": {},
     "output_type": "display_data"
    }
   ],
   "source": [
    "fig = go.Figure()\n",
    "airfoil = Airfoil(name=\"NACA4412\")\n",
    "airfoil.draw(show=False, fig=fig, fill=False)\n",
    "\n",
    "# Generate a random latent vector as input\n",
    "latent_vector = np.random.randn(1, 128).astype(np.float32)\n",
    "output = model(latent_vector)\n",
    "print(output)\n",
    "\n",
    "random_kulfan = KulfanAirfoil(lower_weights=output[0][0], upper_weights=output[0][1], leading_edge_weight=0, TE_thickness=0, N1=0.5, N2=1)\n",
    "random_kulfan.draw(fig=fig, show=True, fill=False, color=\"green\")"
   ]
  }
 ],
 "metadata": {
  "kernelspec": {
   "display_name": ".venv",
   "language": "python",
   "name": "python3"
  },
  "language_info": {
   "codemirror_mode": {
    "name": "ipython",
    "version": 3
   },
   "file_extension": ".py",
   "mimetype": "text/x-python",
   "name": "python",
   "nbconvert_exporter": "python",
   "pygments_lexer": "ipython3",
   "version": "3.11.9"
  }
 },
 "nbformat": 4,
 "nbformat_minor": 2
}
